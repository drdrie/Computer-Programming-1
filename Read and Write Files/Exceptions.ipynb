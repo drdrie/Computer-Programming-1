{
 "cells": [
  {
   "cell_type": "markdown",
   "metadata": {},
   "source": [
    "CONCEPT: An exception is an error that occurs while a program is running, causing the program to abruptly halt. You can use the try/except statement to gracefully handle exceptions.\n",
    "\n",
    "An exception is an error that occurs while a program is running. In most cases, an exception causes a program to abruptly halt."
   ]
  },
  {
   "cell_type": "code",
   "execution_count": 11,
   "metadata": {},
   "outputs": [
    {
     "ename": "ZeroDivisionError",
     "evalue": "division by zero",
     "output_type": "error",
     "traceback": [
      "\u001b[0;31m---------------------------------------------------------------------------\u001b[0m",
      "\u001b[0;31mZeroDivisionError\u001b[0m                         Traceback (most recent call last)",
      "Cell \u001b[0;32mIn[11], line 13\u001b[0m\n\u001b[1;32m     10\u001b[0m     \u001b[38;5;28mprint\u001b[39m(num1, \u001b[38;5;124m'\u001b[39m\u001b[38;5;124mdivided by\u001b[39m\u001b[38;5;124m'\u001b[39m, num2, \u001b[38;5;124m'\u001b[39m\u001b[38;5;124mis\u001b[39m\u001b[38;5;124m'\u001b[39m, result)\n\u001b[1;32m     12\u001b[0m \u001b[38;5;66;03m# Call the main function.\u001b[39;00m\n\u001b[0;32m---> 13\u001b[0m \u001b[43mmain\u001b[49m\u001b[43m(\u001b[49m\u001b[43m)\u001b[49m\n",
      "Cell \u001b[0;32mIn[11], line 9\u001b[0m, in \u001b[0;36mmain\u001b[0;34m()\u001b[0m\n\u001b[1;32m      6\u001b[0m num2 \u001b[38;5;241m=\u001b[39m \u001b[38;5;28mint\u001b[39m(\u001b[38;5;28minput\u001b[39m(\u001b[38;5;124m'\u001b[39m\u001b[38;5;124mEnter another number: \u001b[39m\u001b[38;5;124m'\u001b[39m))\n\u001b[1;32m      8\u001b[0m \u001b[38;5;66;03m# Divide num1 by num2 and display the result.\u001b[39;00m\n\u001b[0;32m----> 9\u001b[0m result \u001b[38;5;241m=\u001b[39m \u001b[43mnum1\u001b[49m\u001b[43m \u001b[49m\u001b[38;5;241;43m/\u001b[39;49m\u001b[43m \u001b[49m\u001b[43mnum2\u001b[49m\n\u001b[1;32m     10\u001b[0m \u001b[38;5;28mprint\u001b[39m(num1, \u001b[38;5;124m'\u001b[39m\u001b[38;5;124mdivided by\u001b[39m\u001b[38;5;124m'\u001b[39m, num2, \u001b[38;5;124m'\u001b[39m\u001b[38;5;124mis\u001b[39m\u001b[38;5;124m'\u001b[39m, result)\n",
      "\u001b[0;31mZeroDivisionError\u001b[0m: division by zero"
     ]
    }
   ],
   "source": [
    "# This program divides a number by another number.\n",
    "\n",
    "def main():\n",
    "    # Get two numbers.\n",
    "    num1 = int(input('Enter a number: '))\n",
    "    num2 = int(input('Enter another number: '))\n",
    " \n",
    "    # Divide num1 by num2 and display the result.\n",
    "    result = num1 / num2\n",
    "    print(num1, 'divided by', num2, 'is', result)\n",
    "\n",
    "# Call the main function.\n",
    "main()"
   ]
  },
  {
   "cell_type": "markdown",
   "metadata": {},
   "source": [
    "The lengthy error message that is shown in the sample run is called a traceback. The traceback gives information regarding the line number(s) that caused the exception. (When an exception occurs, programmers say that an exception was raised.) The last line of the error\n",
    "message shows the name of the exception that was raised(ZeroDivisionError) and a brief description of the error that caused the exception to be raised (integer division or modulo by zero)."
   ]
  },
  {
   "cell_type": "code",
   "execution_count": 13,
   "metadata": {},
   "outputs": [
    {
     "ename": "ValueError",
     "evalue": "invalid literal for int() with base 10: 'zero'",
     "output_type": "error",
     "traceback": [
      "\u001b[0;31m---------------------------------------------------------------------------\u001b[0m",
      "\u001b[0;31mValueError\u001b[0m                                Traceback (most recent call last)",
      "Cell \u001b[0;32mIn[13], line 19\u001b[0m\n\u001b[1;32m     16\u001b[0m         \u001b[38;5;28mprint\u001b[39m(\u001b[38;5;124m'\u001b[39m\u001b[38;5;124mCannot divide by zero.\u001b[39m\u001b[38;5;124m'\u001b[39m)\n\u001b[1;32m     18\u001b[0m \u001b[38;5;66;03m# Call the main function.\u001b[39;00m\n\u001b[0;32m---> 19\u001b[0m \u001b[43mmain\u001b[49m\u001b[43m(\u001b[49m\u001b[43m)\u001b[49m\n",
      "Cell \u001b[0;32mIn[13], line 8\u001b[0m, in \u001b[0;36mmain\u001b[0;34m()\u001b[0m\n\u001b[1;32m      5\u001b[0m \u001b[38;5;28;01mdef\u001b[39;00m \u001b[38;5;21mmain\u001b[39m():\n\u001b[1;32m      6\u001b[0m     \u001b[38;5;66;03m# Get two numbers.\u001b[39;00m\n\u001b[1;32m      7\u001b[0m     num1 \u001b[38;5;241m=\u001b[39m \u001b[38;5;28mint\u001b[39m(\u001b[38;5;28minput\u001b[39m(\u001b[38;5;124m'\u001b[39m\u001b[38;5;124mEnter a number: \u001b[39m\u001b[38;5;124m'\u001b[39m))\n\u001b[0;32m----> 8\u001b[0m     num2 \u001b[38;5;241m=\u001b[39m \u001b[38;5;28;43mint\u001b[39;49m\u001b[43m(\u001b[49m\u001b[38;5;28;43minput\u001b[39;49m\u001b[43m(\u001b[49m\u001b[38;5;124;43m'\u001b[39;49m\u001b[38;5;124;43mEnter another number: \u001b[39;49m\u001b[38;5;124;43m'\u001b[39;49m\u001b[43m)\u001b[49m\u001b[43m)\u001b[49m\n\u001b[1;32m     10\u001b[0m     \u001b[38;5;66;03m# If num2 is not 0, divide num1 by num2\u001b[39;00m\n\u001b[1;32m     11\u001b[0m     \u001b[38;5;66;03m# and display the result.\u001b[39;00m\n\u001b[1;32m     12\u001b[0m     \u001b[38;5;28;01mif\u001b[39;00m num2 \u001b[38;5;241m!=\u001b[39m \u001b[38;5;241m0\u001b[39m:\n",
      "\u001b[0;31mValueError\u001b[0m: invalid literal for int() with base 10: 'zero'"
     ]
    }
   ],
   "source": [
    "#Avoiding the exception above\n",
    "\n",
    "# This program divides a number by another number.\n",
    "\n",
    "def main():\n",
    "    # Get two numbers.\n",
    "    num1 = int(input('Enter a number: '))\n",
    "    num2 = int(input('Enter another number: '))\n",
    " \n",
    "    # If num2 is not 0, divide num1 by num2\n",
    "    # and display the result.\n",
    "    if num2 != 0:\n",
    "        result = num1 / num2\n",
    "        print(num1, 'divided by', num2, 'is', result)\n",
    "    else:\n",
    "        print('Cannot divide by zero.')\n",
    "\n",
    "# Call the main function.\n",
    "main()"
   ]
  },
  {
   "cell_type": "markdown",
   "metadata": {},
   "source": [
    "Some exceptions cannot be avoided regardless of how carefully you write your program."
   ]
  },
  {
   "cell_type": "code",
   "execution_count": 14,
   "metadata": {},
   "outputs": [
    {
     "ename": "ValueError",
     "evalue": "invalid literal for int() with base 10: 'forty'",
     "output_type": "error",
     "traceback": [
      "\u001b[0;31m---------------------------------------------------------------------------\u001b[0m",
      "\u001b[0;31mValueError\u001b[0m                                Traceback (most recent call last)",
      "Cell \u001b[0;32mIn[14], line 17\u001b[0m\n\u001b[1;32m     14\u001b[0m  \u001b[38;5;28mprint\u001b[39m(\u001b[38;5;124m'\u001b[39m\u001b[38;5;124mGross pay: $\u001b[39m\u001b[38;5;124m'\u001b[39m, \u001b[38;5;28mformat\u001b[39m(gross_pay, \u001b[38;5;124m'\u001b[39m\u001b[38;5;124m,.2f\u001b[39m\u001b[38;5;124m'\u001b[39m), sep\u001b[38;5;241m=\u001b[39m\u001b[38;5;124m'\u001b[39m\u001b[38;5;124m'\u001b[39m)\n\u001b[1;32m     16\u001b[0m \u001b[38;5;66;03m# Call the main function.\u001b[39;00m\n\u001b[0;32m---> 17\u001b[0m \u001b[43mmain\u001b[49m\u001b[43m(\u001b[49m\u001b[43m)\u001b[49m\n",
      "Cell \u001b[0;32mIn[14], line 5\u001b[0m, in \u001b[0;36mmain\u001b[0;34m()\u001b[0m\n\u001b[1;32m      3\u001b[0m \u001b[38;5;28;01mdef\u001b[39;00m \u001b[38;5;21mmain\u001b[39m():\n\u001b[1;32m      4\u001b[0m  \u001b[38;5;66;03m# Get the number of hours worked.\u001b[39;00m\n\u001b[0;32m----> 5\u001b[0m  hours \u001b[38;5;241m=\u001b[39m \u001b[38;5;28;43mint\u001b[39;49m\u001b[43m(\u001b[49m\u001b[38;5;28;43minput\u001b[39;49m\u001b[43m(\u001b[49m\u001b[38;5;124;43m'\u001b[39;49m\u001b[38;5;124;43mHow many hours did you work? \u001b[39;49m\u001b[38;5;124;43m'\u001b[39;49m\u001b[43m)\u001b[49m\u001b[43m)\u001b[49m\n\u001b[1;32m      7\u001b[0m  \u001b[38;5;66;03m# Get the hourly pay rate.\u001b[39;00m\n\u001b[1;32m      8\u001b[0m  pay_rate \u001b[38;5;241m=\u001b[39m \u001b[38;5;28mfloat\u001b[39m(\u001b[38;5;28minput\u001b[39m(\u001b[38;5;124m'\u001b[39m\u001b[38;5;124mEnter your hourly pay rate: \u001b[39m\u001b[38;5;124m'\u001b[39m))\n",
      "\u001b[0;31mValueError\u001b[0m: invalid literal for int() with base 10: 'forty'"
     ]
    }
   ],
   "source": [
    " # This program calculates gross pay.\n",
    " \n",
    "def main():\n",
    "  # Get the number of hours worked.\n",
    "  hours = int(input('How many hours did you work? '))\n",
    " \n",
    "  # Get the hourly pay rate.\n",
    "  pay_rate = float(input('Enter your hourly pay rate: '))\n",
    " \n",
    " # Calculate the gross pay.\n",
    "  gross_pay = hours * pay_rate\n",
    "\n",
    " # Display the gross pay.\n",
    "  print('Gross pay: $', format(gross_pay, ',.2f'), sep='')\n",
    "\n",
    " # Call the main function.\n",
    "main()"
   ]
  },
  {
   "cell_type": "markdown",
   "metadata": {},
   "source": [
    "Python, like most modern programming languages, allows you to write code that responds to exceptions when they are raised, and prevents the program from abruptly crashing. Such code is called an exception handler and is written with the try/except statement.\n",
    "\n",
    "General format:\n",
    "\n",
    "\n",
    "<code>try:</code> <br>\n",
    "<code>&nbsp;&nbsp;&nbsp;&nbsp;statement</code> <br>\n",
    "<code>&nbsp;&nbsp;&nbsp;&nbsp;statement</code> <br>\n",
    "<code>&nbsp;&nbsp;&nbsp;&nbsp;statement</code> <br>\n",
    "<code>&nbsp;&nbsp;&nbsp;&nbsp;statement</code> <br>\n",
    "<code>except ExceptionName:</code> <br>\n",
    "<code>&nbsp;&nbsp;&nbsp;&nbsp;statement</code> <br>\n",
    "<code>&nbsp;&nbsp;&nbsp;&nbsp;statement</code> <br>\n",
    "<code>&nbsp;&nbsp;&nbsp;&nbsp;statement</code> <br>\n",
    "<code>&nbsp;&nbsp;&nbsp;&nbsp;statement</code> <br>\n",
    "\n",
    "First, the key word try appears, followed by a colon. Next, a code block appears which we will refer to as the <code>try suite</code>. The try suite is one or more statements that can potentially raise an exception.\n",
    "\n",
    "After the try suite, an except clause appears. The except clause begins with the key word except, optionally followed by the name of an exception, and ending with a colon. Beginning on the next line is a block of statements that we will refer to as a <code>handler</code>.\n",
    "\n",
    "When the try/except statement executes, the statements in the try suite begin to execute. The following describes what happens next:\n",
    "\n",
    "•\t If a statement in the try suite raises an exception that is specified by the ExceptionName in an except clause, then the handler that immediately follows the except clause executes. Then, the program resumes execution with the statement immediately following the try/except statement. <br><br>\n",
    "•\t If a statement in the try suite raises an exception that is not specified by the ExceptionName in an except clause, then the program will halt with a traceback error message. <br><br>\n",
    "•\t If the statements in the try suite execute without raising an exception, then any except clauses and handlers in the statement are skipped, and the program resumes execution with the statement immediately following the try/except statement. <br><br>\n"
   ]
  },
  {
   "cell_type": "code",
   "execution_count": 19,
   "metadata": {},
   "outputs": [
    {
     "ename": "ZeroDivisionError",
     "evalue": "division by zero",
     "output_type": "error",
     "traceback": [
      "\u001b[0;31m---------------------------------------------------------------------------\u001b[0m",
      "\u001b[0;31mZeroDivisionError\u001b[0m                         Traceback (most recent call last)",
      "Cell \u001b[0;32mIn[19], line 16\u001b[0m\n\u001b[1;32m     13\u001b[0m         \u001b[38;5;28mprint\u001b[39m(\u001b[38;5;124m'\u001b[39m\u001b[38;5;124mvalue error\u001b[39m\u001b[38;5;124m'\u001b[39m)\n\u001b[1;32m     15\u001b[0m \u001b[38;5;66;03m# Call the main function.\u001b[39;00m\n\u001b[0;32m---> 16\u001b[0m \u001b[43mmain\u001b[49m\u001b[43m(\u001b[49m\u001b[43m)\u001b[49m\n",
      "Cell \u001b[0;32mIn[19], line 10\u001b[0m, in \u001b[0;36mmain\u001b[0;34m()\u001b[0m\n\u001b[1;32m      7\u001b[0m     num2 \u001b[38;5;241m=\u001b[39m \u001b[38;5;28mint\u001b[39m(\u001b[38;5;28minput\u001b[39m(\u001b[38;5;124m'\u001b[39m\u001b[38;5;124mEnter another number: \u001b[39m\u001b[38;5;124m'\u001b[39m))\n\u001b[1;32m      9\u001b[0m     \u001b[38;5;66;03m# Divide num1 by num2 and display the result.\u001b[39;00m\n\u001b[0;32m---> 10\u001b[0m     result \u001b[38;5;241m=\u001b[39m \u001b[43mnum1\u001b[49m\u001b[43m \u001b[49m\u001b[38;5;241;43m/\u001b[39;49m\u001b[43m \u001b[49m\u001b[43mnum2\u001b[49m\n\u001b[1;32m     11\u001b[0m     \u001b[38;5;28mprint\u001b[39m(num1, \u001b[38;5;124m'\u001b[39m\u001b[38;5;124mdivided by\u001b[39m\u001b[38;5;124m'\u001b[39m, num2, \u001b[38;5;124m'\u001b[39m\u001b[38;5;124mis\u001b[39m\u001b[38;5;124m'\u001b[39m, result)\n\u001b[1;32m     12\u001b[0m \u001b[38;5;28;01mexcept\u001b[39;00m \u001b[38;5;167;01mValueError\u001b[39;00m:\n",
      "\u001b[0;31mZeroDivisionError\u001b[0m: division by zero"
     ]
    }
   ],
   "source": [
    "# This program divides a number by another number.\n",
    "\n",
    "def main():\n",
    "    try:\n",
    "        # Get two numbers.\n",
    "        num1 = int(input('Enter a number: '))\n",
    "        num2 = int(input('Enter another number: '))\n",
    "    \n",
    "        # Divide num1 by num2 and display the result.\n",
    "        result = num1 / num2\n",
    "        print(num1, 'divided by', num2, 'is', result)\n",
    "    except ValueError:\n",
    "        print('value error')\n",
    "\n",
    "# Call the main function.\n",
    "main()"
   ]
  },
  {
   "cell_type": "code",
   "execution_count": 26,
   "metadata": {},
   "outputs": [
    {
     "name": "stdout",
     "output_type": "stream",
     "text": [
      "[Errno 2] No such file or directory: 'sales_datax.txt'\n"
     ]
    }
   ],
   "source": [
    "#Handling Multiple Exceptions\n",
    "# This program displays the total of the\n",
    "# amounts in the sales_data.txt file.\n",
    "\n",
    "def main():\n",
    "    # Initialize an accumulator.\n",
    "    total = 0.0\n",
    "    \n",
    "    try:\n",
    "        # Open the sales_data.txt file.\n",
    "        infile = open('sales_datax.txt', 'r')\n",
    "\n",
    "        # Read the values from the file and\n",
    "        # accumulate them.\n",
    "        for line in infile:\n",
    "            amount = float(line)\n",
    "            total += amount\n",
    "\n",
    "        # Close the file.\n",
    "        infile.close()\n",
    "\n",
    "        # Print the total.\n",
    "        print(format(total, ',.2f'))\n",
    "\n",
    "    except IOError as error:\n",
    "        print(error)\n",
    "\n",
    "    except ValueError:\n",
    "        print('Non-numeric data found in the file.')\n",
    "\n",
    "    except:\n",
    "        print('An error occured.')\n",
    "\n",
    "# Call the main function.\n",
    "main()\n"
   ]
  },
  {
   "cell_type": "code",
   "execution_count": 25,
   "metadata": {},
   "outputs": [
    {
     "name": "stdout",
     "output_type": "stream",
     "text": [
      "An error occured.\n"
     ]
    }
   ],
   "source": [
    "#Using One except Clause to Catch all Exceptions\n",
    "\n",
    "def main():\n",
    "    # Initialize an accumulator.\n",
    "    total = 0.0\n",
    "    \n",
    "    try:\n",
    "        # Open the sales_data.txt file.\n",
    "        infile = open('sales_data.txt', 'r')\n",
    "\n",
    "        # Read the values from the file and\n",
    "        # accumulate them.\n",
    "        for line in infile:\n",
    "            amount = float(line)\n",
    "            total += amount\n",
    "\n",
    "        # Close the file.\n",
    "        infile.close()\n",
    "\n",
    "        # Print the total.\n",
    "        print(format(total, ',.2f'))\n",
    "        \n",
    "    except:\n",
    "        print('An error occured.')\n",
    "\n",
    "# Call the main function.\n",
    "main()\n"
   ]
  },
  {
   "cell_type": "code",
   "execution_count": 7,
   "metadata": {},
   "outputs": [
    {
     "name": "stdout",
     "output_type": "stream",
     "text": [
      "169,187.71\n"
     ]
    }
   ],
   "source": [
    "#Displaying an Exception’s Default Error Message\n",
    "\n",
    "def main():\n",
    "    # Initialize an accumulator.\n",
    "    total = 0.0\n",
    "    \n",
    "    try:\n",
    "        # Open the sales_data.txt file.\n",
    "        infile = open('sales_data.txt', 'r')\n",
    "\n",
    "        # Read the values from the file and\n",
    "        # accumulate them.\n",
    "        for line in infile:\n",
    "            amount = float(line)\n",
    "            total += amount\n",
    "\n",
    "        # Close the file.\n",
    "        infile.close()\n",
    "\n",
    "        # Print the total.\n",
    "        print(format(total, ',.2f'))\n",
    "        \n",
    "    except ValueError as err:\n",
    "        print(err)\n",
    "\n",
    "# Call the main function.\n",
    "main()\n"
   ]
  },
  {
   "cell_type": "markdown",
   "metadata": {},
   "source": [
    "The else Clause <br>\n",
    "The try/except statement may have an optional else clause, which appears after all the except clauses. Here is the general format of a try/except statement with an else clause:\n",
    "\n",
    "<code>try:</code> <br>\n",
    "<code>&nbsp;&nbsp;&nbsp;&nbsp;statement</code> <br>\n",
    "<code>&nbsp;&nbsp;&nbsp;&nbsp;statement</code> <br>\n",
    "<code>&nbsp;&nbsp;&nbsp;&nbsp;statement</code> <br>\n",
    "<code>&nbsp;&nbsp;&nbsp;&nbsp;statement</code> <br>\n",
    "<code>except ExceptionName:</code> <br>\n",
    "<code>&nbsp;&nbsp;&nbsp;&nbsp;statement</code> <br>\n",
    "<code>&nbsp;&nbsp;&nbsp;&nbsp;statement</code> <br>\n",
    "<code>&nbsp;&nbsp;&nbsp;&nbsp;statement</code> <br>\n",
    "<code>&nbsp;&nbsp;&nbsp;&nbsp;statement</code> <br>\n",
    "<code>else:</code> <br>\n",
    "<code>&nbsp;&nbsp;&nbsp;&nbsp;statement</code> <br>\n",
    "<code>&nbsp;&nbsp;&nbsp;&nbsp;statement</code> <br>\n",
    "<code>&nbsp;&nbsp;&nbsp;&nbsp;statement</code> <br>\n",
    "<code>&nbsp;&nbsp;&nbsp;&nbsp;statement</code> <br>\n",
    "\n",
    "The block of statements that appears after the else clause is known as the <code>else suite</code>. The statements in the else suite are executed after the statements in the try suite, only if no exceptions were raised. "
   ]
  },
  {
   "cell_type": "code",
   "execution_count": 28,
   "metadata": {},
   "outputs": [
    {
     "name": "stdout",
     "output_type": "stream",
     "text": [
      "could not convert string to float: 'xxxxxxxx'\n"
     ]
    }
   ],
   "source": [
    "def main():\n",
    "    # Initialize an accumulator.\n",
    "    total = 0.0\n",
    "    \n",
    "    try:\n",
    "        # Open the sales_data.txt file.\n",
    "        infile = open('sales_data.txt', 'r')\n",
    "\n",
    "        # Read the values from the file and\n",
    "        # accumulate them.\n",
    "        for line in infile:\n",
    "            amount = float(line)\n",
    "            total += amount\n",
    "\n",
    "        # Close the file.\n",
    "        infile.close()\n",
    "        \n",
    "    except ValueError as err:\n",
    "        print(err)\n",
    "    else:\n",
    "        # Print the total.\n",
    "        print(format(total, ',.2f'))\n",
    "\n",
    "# Call the main function.\n",
    "main()"
   ]
  },
  {
   "cell_type": "markdown",
   "metadata": {},
   "source": [
    "The finally Clause <br>\n",
    "\n",
    "The try/except statement may have an optional finally clause, which must appear\n",
    "after all the except clauses. Here is the general format of a try/except statement with a finally clause:\n",
    "\n",
    "<code>try:</code> <br>\n",
    "<code>&nbsp;&nbsp;&nbsp;&nbsp;statement</code> <br>\n",
    "<code>&nbsp;&nbsp;&nbsp;&nbsp;statement</code> <br>\n",
    "<code>&nbsp;&nbsp;&nbsp;&nbsp;statement</code> <br>\n",
    "<code>&nbsp;&nbsp;&nbsp;&nbsp;statement</code> <br>\n",
    "<code>except ExceptionName:</code> <br>\n",
    "<code>&nbsp;&nbsp;&nbsp;&nbsp;statement</code> <br>\n",
    "<code>&nbsp;&nbsp;&nbsp;&nbsp;statement</code> <br>\n",
    "<code>&nbsp;&nbsp;&nbsp;&nbsp;statement</code> <br>\n",
    "<code>&nbsp;&nbsp;&nbsp;&nbsp;statement</code> <br>\n",
    "<code>finally:</code> <br>\n",
    "<code>&nbsp;&nbsp;&nbsp;&nbsp;statement</code> <br>\n",
    "<code>&nbsp;&nbsp;&nbsp;&nbsp;statement</code> <br>\n",
    "<code>&nbsp;&nbsp;&nbsp;&nbsp;statement</code> <br>\n",
    "<code>&nbsp;&nbsp;&nbsp;&nbsp;statement</code> <br>\n",
    "\n",
    "The block of statements that appears after the finally clause is known as the <code>finally suite</code>. The statements in the finally suite are always executed after the try suite has executed, and after any exception handlers have executed. The statements in the finally suite execute\n",
    "whether an exception occurs or not. The purpose of the finally suite is to perform cleanup operations, such as closing files or other resources. Any code that is written in the finally suite will always execute, even if the try suite raises an exception.\n"
   ]
  },
  {
   "cell_type": "markdown",
   "metadata": {},
   "source": [
    "What If an Exception Is Not Handled? <br>\n",
    "\n",
    "Two possibilities: <br> <br>\n",
    "•\tThe first possibility is for the try/except statement to contain no except clauses specifying an exception of the right type.  <br><br>\n",
    "•\t The second possibility is for the exception to be raised from outside a try suite. In either case, the exception will cause the program to halt. <br><br>\n"
   ]
  }
 ],
 "metadata": {
  "kernelspec": {
   "display_name": "Python 3",
   "language": "python",
   "name": "python3"
  },
  "language_info": {
   "codemirror_mode": {
    "name": "ipython",
    "version": 3
   },
   "file_extension": ".py",
   "mimetype": "text/x-python",
   "name": "python",
   "nbconvert_exporter": "python",
   "pygments_lexer": "ipython3",
   "version": "3.9.6"
  }
 },
 "nbformat": 4,
 "nbformat_minor": 2
}
