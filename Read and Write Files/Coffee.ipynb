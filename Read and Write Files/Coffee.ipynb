{
 "cells": [
  {
   "cell_type": "code",
   "execution_count": 4,
   "metadata": {},
   "outputs": [
    {
     "name": "stdout",
     "output_type": "stream",
     "text": [
      "Item was updated!\n"
     ]
    }
   ],
   "source": [
    "import os # to remove and rename files\n",
    "\n",
    "def main():\n",
    "    found = False #this will tell us if we find anything \n",
    "\n",
    "    coffee_file = open('coffee.txt','r') #original file to read data\n",
    "    temp_file = open('temp.txt','w') #temp file to write data\n",
    "\n",
    "    search = input('Enter the coffee you want to search for: ')\n",
    "    new_qty = int(input('Enter new quantity: ')) #updated quantity\n",
    "\n",
    "    desc = coffee_file.readline()\n",
    "\n",
    "    while desc != '':\n",
    "        desc = desc.rstrip('\\n')\n",
    "        qty = coffee_file.readline().rstrip('\\n')   #original quantity\n",
    "\n",
    "        if search == desc: #taskId\n",
    "            temp_file.write(desc + '\\n')\n",
    "            temp_file.write(str(new_qty) + '\\n')\n",
    "            found = True\n",
    "        else:\n",
    "            temp_file.write(desc + '\\n')\n",
    "            temp_file.write(str(qty) + '\\n')\n",
    "    \n",
    "        desc = coffee_file.readline()\n",
    "    \n",
    "    os.remove('coffee.txt') #removing the outdated file\n",
    "    os.rename('temp.txt','coffee.txt') #rename the updated file\n",
    "    \n",
    "    if not found:\n",
    "        print('Item was not found!')\n",
    "    else:\n",
    "        print('Item was updated!')\n",
    "\n",
    "main()\n"
   ]
  },
  {
   "cell_type": "code",
   "execution_count": 5,
   "metadata": {},
   "outputs": [
    {
     "name": "stdout",
     "output_type": "stream",
     "text": [
      "Item was updated!\n"
     ]
    }
   ],
   "source": [
    "import os # to remove and rename files\n",
    "\n",
    "def main():\n",
    "    found = False #this will tell us if we find anything \n",
    "\n",
    "    coffee_file = open('coffee.txt','r') #original file to read data\n",
    "    temp_file = open('temp.txt','w') #temp file to write data\n",
    "\n",
    "    search = input('Enter the coffee you want to delete: ')\n",
    "\n",
    "    desc = coffee_file.readline()\n",
    "\n",
    "    while desc != '':\n",
    "        desc = desc.rstrip('\\n')\n",
    "        qty = coffee_file.readline().rstrip('\\n')   #original quantity\n",
    "\n",
    "        if search != desc: #taskId \n",
    "            temp_file.write(desc + '\\n')\n",
    "            temp_file.write(str(qty) + '\\n')\n",
    "            \n",
    "        else:\n",
    "           found = True\n",
    "    \n",
    "        desc = coffee_file.readline()\n",
    "    \n",
    "    os.remove('coffee.txt') #removing the outdated file\n",
    "    os.rename('temp.txt','coffee.txt') #rename the updated file\n",
    "    \n",
    "    if not found:\n",
    "        print('Item was not found!')\n",
    "    else:\n",
    "        print('Item was updated!')\n",
    "\n",
    "main()\n"
   ]
  },
  {
   "cell_type": "code",
   "execution_count": 6,
   "metadata": {},
   "outputs": [
    {
     "name": "stdout",
     "output_type": "stream",
     "text": [
      "y\n",
      "y\n",
      "y\n"
     ]
    }
   ],
   "source": [
    "def write():\n",
    "    file = open('test.txt','w')\n",
    "    toWrite = []\n",
    "    ask = 'y'\n",
    "    while ask.lower() == 'y':\n",
    "        print(ask)\n",
    "        word = input('Input a word: ')\n",
    "        if word not in toWrite:\n",
    "            file.write(word + '\\n')\n",
    "            toWrite.append(word)\n",
    "        ask = input('Would like to add another word? Y/N')\n",
    "    file.close()\n",
    "\n",
    "write()     \n",
    "    "
   ]
  },
  {
   "cell_type": "code",
   "execution_count": 10,
   "metadata": {},
   "outputs": [
    {
     "name": "stdout",
     "output_type": "stream",
     "text": [
      "2\n",
      "5\n",
      "3.3333333333333335\n"
     ]
    }
   ],
   "source": [
    "def write():\n",
    "    file = open('test.txt','w')\n",
    "    toWrite = []\n",
    "    ask = 'y'\n",
    "    while ask.lower() == 'y':\n",
    "        word = input('Input a word: ')\n",
    "        if word not in toWrite:\n",
    "            file.write(word + '\\n')\n",
    "            toWrite.append(word)\n",
    "        ask = input('Would like to add another word? Y/N')\n",
    "    file.close()\n",
    "\n",
    "# write()  \n",
    "\n",
    "def read():\n",
    "    reader = open('test.txt','r')\n",
    "    lenList = []\n",
    "    for line in reader:\n",
    "        lenList.append(len(line.strip('\\n')))\n",
    "    \n",
    "    print(min(lenList))\n",
    "    print(max(lenList))\n",
    "    print(sum(lenList)/len(lenList))   \n",
    "    reader.close()\n",
    "\n",
    "read()"
   ]
  },
  {
   "cell_type": "code",
   "execution_count": 7,
   "metadata": {},
   "outputs": [
    {
     "ename": "ValueError",
     "evalue": "invalid literal for int() with base 10: 'zero'",
     "output_type": "error",
     "traceback": [
      "\u001b[0;31m---------------------------------------------------------------------------\u001b[0m",
      "\u001b[0;31mValueError\u001b[0m                                Traceback (most recent call last)",
      "Cell \u001b[0;32mIn[7], line 26\u001b[0m\n\u001b[1;32m     23\u001b[0m         \u001b[38;5;28;01mif\u001b[39;00m reader \u001b[38;5;241m!=\u001b[39m \u001b[38;5;28;01mNone\u001b[39;00m:\n\u001b[1;32m     24\u001b[0m             reader\u001b[38;5;241m.\u001b[39mclose()\n\u001b[0;32m---> 26\u001b[0m \u001b[43mread\u001b[49m\u001b[43m(\u001b[49m\u001b[43m)\u001b[49m\n",
      "Cell \u001b[0;32mIn[7], line 3\u001b[0m, in \u001b[0;36mread\u001b[0;34m()\u001b[0m\n\u001b[1;32m      1\u001b[0m \u001b[38;5;28;01mdef\u001b[39;00m \u001b[38;5;21mread\u001b[39m():\n\u001b[1;32m      2\u001b[0m     reader \u001b[38;5;241m=\u001b[39m \u001b[38;5;28;01mNone\u001b[39;00m\n\u001b[0;32m----> 3\u001b[0m     num \u001b[38;5;241m=\u001b[39m \u001b[38;5;28;43mint\u001b[39;49m\u001b[43m(\u001b[49m\u001b[38;5;28;43minput\u001b[39;49m\u001b[43m(\u001b[49m\u001b[38;5;124;43m\"\u001b[39;49m\u001b[38;5;124;43mEnter a number: \u001b[39;49m\u001b[38;5;124;43m\"\u001b[39;49m\u001b[43m)\u001b[49m\u001b[43m)\u001b[49m\n\u001b[1;32m      4\u001b[0m     \u001b[38;5;28;01mtry\u001b[39;00m:\n\u001b[1;32m      5\u001b[0m         reader \u001b[38;5;241m=\u001b[39m \u001b[38;5;28mopen\u001b[39m(\u001b[38;5;124m'\u001b[39m\u001b[38;5;124mtest1.txt\u001b[39m\u001b[38;5;124m'\u001b[39m,\u001b[38;5;124m'\u001b[39m\u001b[38;5;124mr\u001b[39m\u001b[38;5;124m'\u001b[39m)\n",
      "\u001b[0;31mValueError\u001b[0m: invalid literal for int() with base 10: 'zero'"
     ]
    }
   ],
   "source": [
    "def read():\n",
    "    reader = None\n",
    "    num = int(input(\"Enter a number: \"))\n",
    "    try:\n",
    "        reader = open('test1.txt','r')\n",
    "        total = 0\n",
    "        ctr = 0\n",
    "        longest = 0\n",
    "        for line in reader:\n",
    "            if len(line.rstrip('\\n')) > longest:\n",
    "                longest = len(line.rstrip('\\n'))\n",
    "            total += len(line.rstrip('\\n'))\n",
    "            if line != '': ctr+= 1\n",
    "        \n",
    "        print(ctr)\n",
    "        print(longest)\n",
    "        print(total/ctr)   \n",
    "    except FileNotFoundError as err:\n",
    "        print(err)\n",
    "    except ValueError as err:\n",
    "        print(err)\n",
    "    finally:\n",
    "        if reader != None:\n",
    "            reader.close()\n",
    "\n",
    "read()"
   ]
  }
 ],
 "metadata": {
  "kernelspec": {
   "display_name": "Python 3",
   "language": "python",
   "name": "python3"
  },
  "language_info": {
   "codemirror_mode": {
    "name": "ipython",
    "version": 3
   },
   "file_extension": ".py",
   "mimetype": "text/x-python",
   "name": "python",
   "nbconvert_exporter": "python",
   "pygments_lexer": "ipython3",
   "version": "3.9.6"
  }
 },
 "nbformat": 4,
 "nbformat_minor": 2
}
