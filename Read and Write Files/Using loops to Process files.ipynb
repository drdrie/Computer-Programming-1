{
 "cells": [
  {
   "cell_type": "markdown",
   "metadata": {},
   "source": [
    "Using loops to Process Files <br>\n",
    "CONCEPT: Files usually hold large amounts of data, and programs typically use a loop to process the data in a file."
   ]
  },
  {
   "cell_type": "code",
   "execution_count": 1,
   "metadata": {},
   "outputs": [
    {
     "name": "stdout",
     "output_type": "stream",
     "text": [
      "Data written to sales.txt.\n"
     ]
    }
   ],
   "source": [
    "# This program prompts the user for sales amounts\n",
    "# and writes those amounts to the sales.txt file.\n",
    "\n",
    "def main():\n",
    "    # Get the number of days.\n",
    "    num_days = int(input('For how many days do ' +   'you have sales? '))\n",
    "    # Open a new file named sales.txt.\n",
    "    sales_file = open('sales.txt', 'w')\n",
    "\n",
    "    # Get the amount of sales for each day and write it to the file.\n",
    "    for count in range(1, num_days + 1):\n",
    "    # Get the sales for a day.\n",
    "        sales = float(input('Enter the sales for day #' +  str(count) + ': '))\n",
    "\n",
    "        # Write the sales amount to the file.\n",
    "        sales_file.write(str(sales) + '\\n')\n",
    "\n",
    "    # Close the file.\n",
    "    sales_file.close()\n",
    "    print('Data written to sales.txt.')\n",
    "\n",
    "# Call the main function.\n",
    "main()\n"
   ]
  },
  {
   "cell_type": "markdown",
   "metadata": {},
   "source": [
    "Reading a File with a Loop and Detecting the End of the File"
   ]
  },
  {
   "cell_type": "code",
   "execution_count": 2,
   "metadata": {},
   "outputs": [
    {
     "name": "stdout",
     "output_type": "stream",
     "text": [
      "100.00\n",
      "200.00\n"
     ]
    }
   ],
   "source": [
    " # This program reads all of the values in\n",
    " # the sales.txt file.\n",
    " \n",
    "def main():\n",
    "    # Open the sales.txt file for reading.\n",
    "    sales_file = open('sales.txt', 'r')\n",
    "    \n",
    "    # Read the first line from the file, but  # don't convert to a number yet. We still  # need to test for an empty string.\n",
    "    line = sales_file.readline()\n",
    "\n",
    "    # As long as an empty string is not returned from readline, continue processing.\n",
    "    while line != '':\n",
    "        # Convert line to a float.\n",
    "        amount = float(line)\n",
    "\n",
    "        # Format and display the amount.\n",
    "        print(format(amount, '.2f'))\n",
    "\n",
    "        # Read the next line.\n",
    "        line = sales_file.readline()\n",
    "\n",
    "    # Close the file.\n",
    "    sales_file.close()\n",
    "\n",
    "# Call the main function.\n",
    "main()"
   ]
  },
  {
   "cell_type": "markdown",
   "metadata": {},
   "source": [
    "Using Python’s for Loop to Read Lines"
   ]
  },
  {
   "cell_type": "code",
   "execution_count": 3,
   "metadata": {},
   "outputs": [
    {
     "name": "stdout",
     "output_type": "stream",
     "text": [
      "100.00\n",
      "200.00\n"
     ]
    }
   ],
   "source": [
    "# This program uses the for loop to read\n",
    "# all of the values in the sales.txt file.\n",
    "\n",
    "def main():\n",
    "    # Open the sales.txt file for reading.\n",
    "    sales_file = open('sales.txt', 'r')\n",
    "\n",
    "    # Read all the lines from the file.\n",
    "    for line in sales_file:\n",
    "        # Convert line to a float.\n",
    "        amount = float(line)\n",
    "        # Format and display the amount.\n",
    "        print(format(amount, '.2f'))\n",
    "\n",
    "    # Close the file.\n",
    "    sales_file.close()\n",
    "\n",
    "# Call the main function.\n",
    "main()"
   ]
  },
  {
   "cell_type": "markdown",
   "metadata": {},
   "source": [
    "Processing Records <br>\n",
    "CONCEPT: The data that is stored in a file is frequently organized in records. A record is a complete set of data about an item, and a field is an individual piece of data within a record."
   ]
  },
  {
   "cell_type": "code",
   "execution_count": 4,
   "metadata": {},
   "outputs": [
    {
     "name": "stdout",
     "output_type": "stream",
     "text": [
      "Enter data for employee #1\n",
      "\n",
      "Enter data for employee #2\n",
      "\n",
      "Employee records written to employees.txt.\n"
     ]
    }
   ],
   "source": [
    "# This program gets employee data from the user and\n",
    "# saves it as records in the employee.txt file.\n",
    "\n",
    "def main():\n",
    "    # Get the number of employee records to create.\n",
    "    num_emps = int(input('How many employee records ' + 'do you want to create? '))\n",
    " \n",
    "    # Open a file for writing.\n",
    "    emp_file = open('employees.txt', 'w')\n",
    "\n",
    "    # Get each employee's data and write it to\n",
    "    # the file.\n",
    "    for count in range(1, num_emps + 1):\n",
    "\n",
    "        # Get the data for an employee.\n",
    "        print('Enter data for employee #', count, sep='')\n",
    "        name = input('Name: ')\n",
    "        id_num = input('ID number: ')\n",
    "        dept = input('Department: ')\n",
    "\n",
    "        # Write the data as a record to the file.\n",
    "        emp_file.write(name + '\\n')\n",
    "        emp_file.write(id_num + '\\n')\n",
    "        emp_file.write(dept + '\\n')\n",
    "\n",
    "        # Display a blank line.\n",
    "        print()\n",
    "\n",
    "    # Close the file.\n",
    "    emp_file.close()\n",
    "    print('Employee records written to employees.txt.')\n",
    "\n",
    " # Call the main function.\n",
    "main()"
   ]
  },
  {
   "cell_type": "code",
   "execution_count": 5,
   "metadata": {},
   "outputs": [
    {
     "name": "stdout",
     "output_type": "stream",
     "text": [
      "Name: James\n",
      "ID: 001\n",
      "Dept: CCS\n",
      "\n",
      "Name: Jane\n",
      "ID: 002\n",
      "Dept: CBE\n",
      "\n"
     ]
    }
   ],
   "source": [
    "# This program displays the records that are\n",
    "# in the employees.txt file.\n",
    " \n",
    "def main():\n",
    "    # Open the employees.txt file.\n",
    "    emp_file = open('employees.txt', 'r')\n",
    "    \n",
    "    # Read the first line from the file, which is\n",
    "    # the name field of the first record.\n",
    "    name = emp_file.readline()\n",
    "\n",
    "    # If a field was read, continue processing.\n",
    "    while name != '':\n",
    "        # Read the ID number field.\n",
    "        id_num = emp_file.readline()\n",
    "\n",
    "        # Read the department field.\n",
    "        dept = emp_file.readline()\n",
    "\n",
    "        # Strip the newlines from the fields.\n",
    "        name = name.rstrip('\\n')\n",
    "        id_num = id_num.rstrip('\\n')\n",
    "        dept = dept.rstrip('\\n')\n",
    "\n",
    "        # Display the record.\n",
    "        print('Name:', name)\n",
    "        print('ID:', id_num)\n",
    "        print('Dept:', dept)\n",
    "        print()\n",
    "\n",
    "        # Read the name field of the next record.\n",
    "        name = emp_file.readline()\n",
    "\n",
    "        # Close the file.\n",
    "    emp_file.close()\n",
    "\n",
    "# Call the main function.\n",
    "main()"
   ]
  }
 ],
 "metadata": {
  "kernelspec": {
   "display_name": "Python 3",
   "language": "python",
   "name": "python3"
  },
  "language_info": {
   "codemirror_mode": {
    "name": "ipython",
    "version": 3
   },
   "file_extension": ".py",
   "mimetype": "text/x-python",
   "name": "python",
   "nbconvert_exporter": "python",
   "pygments_lexer": "ipython3",
   "version": "3.11.4"
  }
 },
 "nbformat": 4,
 "nbformat_minor": 2
}
