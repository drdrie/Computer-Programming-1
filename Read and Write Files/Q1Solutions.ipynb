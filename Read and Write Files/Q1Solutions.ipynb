{
 "cells": [
  {
   "cell_type": "code",
   "execution_count": 44,
   "metadata": {},
   "outputs": [],
   "source": [
    "#NUMBER OF WORDS IN THE FILE\n",
    "#LONGEST WORD\n",
    "#AVERAGE\n",
    "#NO DUPLICATE + write - 15\n",
    "\n",
    "def write():\n",
    "    try:\n",
    "        writer = open('testr.txt','w')\n",
    "        #checker \n",
    "        toWrite = [] #check this list if the word exists\n",
    "        ask = 'y'\n",
    "\n",
    "        while ask.lower() == 'y':\n",
    "            word = input('Enter a word: ')\n",
    "            if word not in toWrite:\n",
    "                writer.write(word + '\\n') #write the word to the file #function\n",
    "                toWrite.append(word)\n",
    "            ask = input('Do you want to continue? Y/N')\n",
    "        writer.close()\n",
    "    except:\n",
    "        print('The file does not exist. Locate the file!')\n",
    "    \n",
    "write()\n"
   ]
  }
 ],
 "metadata": {
  "kernelspec": {
   "display_name": "Python 3",
   "language": "python",
   "name": "python3"
  },
  "language_info": {
   "name": "python",
   "version": "3.9.6"
  }
 },
 "nbformat": 4,
 "nbformat_minor": 2
}
