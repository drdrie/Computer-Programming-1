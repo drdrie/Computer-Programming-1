{
 "cells": [
  {
   "cell_type": "markdown",
   "metadata": {},
   "source": [
    "Suppressing the print function's ending newline <br>\n",
    "\n",
    "The print function normally displays a line of output. <br>"
   ]
  },
  {
   "cell_type": "code",
   "execution_count": null,
   "metadata": {},
   "outputs": [],
   "source": [
    "print('One')\n",
    "print('Two')\n",
    "print('Three')"
   ]
  },
  {
   "cell_type": "markdown",
   "metadata": {},
   "source": [
    "Each of the statements above displays a string and then prints a newline character. A newline character causes the output to advance to the next line. If you don't want the print function to start a new line of output when it finishes displaying its output, you can pass the special argument end = ' ' to the function."
   ]
  },
  {
   "cell_type": "code",
   "execution_count": 1,
   "metadata": {},
   "outputs": [
    {
     "name": "stdout",
     "output_type": "stream",
     "text": [
      "One Two Three "
     ]
    }
   ],
   "source": [
    "print('One', end = ' ')\n",
    "print('Two', end = ' ')\n",
    "print('Three', end = ' ')"
   ]
  },
  {
   "cell_type": "code",
   "execution_count": 2,
   "metadata": {},
   "outputs": [
    {
     "name": "stdout",
     "output_type": "stream",
     "text": [
      "OneTwoThree"
     ]
    }
   ],
   "source": [
    "#end without a space\n",
    "print('One', end = '')\n",
    "print('Two', end = '')\n",
    "print('Three', end = '')"
   ]
  },
  {
   "cell_type": "markdown",
   "metadata": {},
   "source": [
    "Specifying an item separator - when multiple arguments are passed to the print function, they are automatically separated by a space when they are displayed. "
   ]
  },
  {
   "cell_type": "code",
   "execution_count": null,
   "metadata": {},
   "outputs": [],
   "source": [
    "print('One', 'Two', 'Three')"
   ]
  },
  {
   "cell_type": "markdown",
   "metadata": {},
   "source": [
    "If you do not want a space printed between the items, you can pass the argument sep = '' to the print function."
   ]
  },
  {
   "cell_type": "code",
   "execution_count": 3,
   "metadata": {},
   "outputs": [
    {
     "name": "stdout",
     "output_type": "stream",
     "text": [
      "OneTwoThree\n"
     ]
    }
   ],
   "source": [
    "print('One', 'Two', 'Three', sep = '')"
   ]
  },
  {
   "cell_type": "code",
   "execution_count": 4,
   "metadata": {},
   "outputs": [
    {
     "name": "stdout",
     "output_type": "stream",
     "text": [
      "One*Two*Three\n"
     ]
    }
   ],
   "source": [
    "#you can also use other characters\n",
    "print('One', 'Two', 'Three', sep = '*')"
   ]
  },
  {
   "cell_type": "markdown",
   "metadata": {},
   "source": [
    "Escape Characters\n",
    "\n",
    "An escape character is a special character that is preceded with a backslash (\\), appearing inside a string literal. When a string literal that contains escape characters is printed, the escape characters are treated as special commands that are embedded in the string."
   ]
  },
  {
   "cell_type": "code",
   "execution_count": 5,
   "metadata": {},
   "outputs": [
    {
     "name": "stdout",
     "output_type": "stream",
     "text": [
      "One\n",
      "Two\n",
      "Three\n"
     ]
    }
   ],
   "source": [
    "#escape character for newline\n",
    "#\\n\n",
    "print('One\\nTwo\\nThree')"
   ]
  },
  {
   "cell_type": "markdown",
   "metadata": {},
   "source": [
    "Escape Characters:\n",
    "\n",
    "\\n | Causes output to be advanced to the next line <br>\n",
    "\\t | Causes output to skip over to the next horizontal tab position <br>\n",
    "\\' | Causes a single quote mark to be printed <br>\n",
    "\\\" | Causes a double quote mark to be printed <br>\n",
    "\\\\ | Causes a backslash character to be printed"
   ]
  },
  {
   "cell_type": "code",
   "execution_count": 6,
   "metadata": {},
   "outputs": [
    {
     "name": "stdout",
     "output_type": "stream",
     "text": [
      "Jan\tFeb\tMar\n",
      "\n",
      "Apr\tMay\tJun\n"
     ]
    }
   ],
   "source": [
    "print('Jan\\tFeb\\tMar\\n')\n",
    "print('Apr\\tMay\\tJun')\n"
   ]
  },
  {
   "cell_type": "markdown",
   "metadata": {},
   "source": [
    "You can use the \\' and \\\" escape characters to display quotation marks."
   ]
  },
  {
   "cell_type": "code",
   "execution_count": 7,
   "metadata": {},
   "outputs": [
    {
     "name": "stdout",
     "output_type": "stream",
     "text": [
      "Your assignment is to read \"Hamlet\" by tomorrow.\n",
      "I'm ready to begin.\n"
     ]
    }
   ],
   "source": [
    "print(\"Your assignment is to read \\\"Hamlet\\\" by tomorrow.\")\n",
    "print('I\\'m ready to begin.')"
   ]
  },
  {
   "cell_type": "markdown",
   "metadata": {},
   "source": [
    "You can use the \\\\ escape character to display a backslash."
   ]
  },
  {
   "cell_type": "code",
   "execution_count": 8,
   "metadata": {},
   "outputs": [
    {
     "name": "stdout",
     "output_type": "stream",
     "text": [
      "The path is C:\\temp\\data.\n"
     ]
    }
   ],
   "source": [
    "print('The path is C:\\\\temp\\\\data.')"
   ]
  },
  {
   "cell_type": "markdown",
   "metadata": {},
   "source": [
    "When the + operator is used with two strings, it performs string concatenation. This means that it appends one string to another"
   ]
  },
  {
   "cell_type": "code",
   "execution_count": 9,
   "metadata": {},
   "outputs": [
    {
     "name": "stdout",
     "output_type": "stream",
     "text": [
      "This is one string.\n"
     ]
    }
   ],
   "source": [
    "print('This is ' + 'one string.')"
   ]
  },
  {
   "cell_type": "code",
   "execution_count": 11,
   "metadata": {},
   "outputs": [
    {
     "name": "stdout",
     "output_type": "stream",
     "text": [
      "Jane Doe goes to school everyday\n"
     ]
    }
   ],
   "source": [
    "#use string concatenation to break up a string literal \n",
    "print('Jane Doe ' + \n",
    "      'goes to school ' + \n",
    "      'everyday')"
   ]
  },
  {
   "cell_type": "markdown",
   "metadata": {},
   "source": [
    "When a floating-point number is displayed by the print function, it can appear with up to 12 significant digits. "
   ]
  },
  {
   "cell_type": "code",
   "execution_count": 16,
   "metadata": {},
   "outputs": [
    {
     "name": "stdout",
     "output_type": "stream",
     "text": [
      "416.6666666666667\n"
     ]
    }
   ],
   "source": [
    "amount_due = 5000.0\n",
    "monthly_payment = amount_due / 12 \n",
    "print(monthly_payment)"
   ]
  },
  {
   "cell_type": "markdown",
   "metadata": {},
   "source": [
    "Round numbers using format function. You pass two arguments to the function:  a numerical value and a format specifier. The format specifier is a string that contains special characters specifying how the numeric value should be formatted. \n",
    "\n",
    "format(12345.6789, '.2f')\n",
    "\n",
    "The first argument, which is the floating-point number 12345.6789, is the number that we want to format. The second argument, which is the string '.2f', is the format specifier.\n",
    "\n",
    ".2 specifies the precision. It indicates that we want to round the number to two decimal places.\n",
    "The f specifies that the data type of the number we are formatting is a floating-point number."
   ]
  },
  {
   "cell_type": "code",
   "execution_count": 1,
   "metadata": {},
   "outputs": [
    {
     "name": "stdout",
     "output_type": "stream",
     "text": [
      "12345.68\n"
     ]
    }
   ],
   "source": [
    "print(format(12345.6789, '.2f'))"
   ]
  },
  {
   "cell_type": "code",
   "execution_count": null,
   "metadata": {},
   "outputs": [],
   "source": [
    "print(format(12345.6789, '.1f'))"
   ]
  },
  {
   "cell_type": "code",
   "execution_count": null,
   "metadata": {},
   "outputs": [],
   "source": [
    "print(format(12345.6789, '.3f'))"
   ]
  },
  {
   "cell_type": "code",
   "execution_count": 2,
   "metadata": {},
   "outputs": [
    {
     "name": "stdout",
     "output_type": "stream",
     "text": [
      "This is a sample format 12345.68\n"
     ]
    }
   ],
   "source": [
    "print('This is a sample format', format(12345.6789, '.2f'))"
   ]
  },
  {
   "cell_type": "code",
   "execution_count": 4,
   "metadata": {},
   "outputs": [
    {
     "name": "stdout",
     "output_type": "stream",
     "text": [
      "1.234568e+04\n"
     ]
    }
   ],
   "source": [
    "#formatting scientific notation\n",
    "print(format(12345.6789, 'e'))"
   ]
  },
  {
   "cell_type": "code",
   "execution_count": 5,
   "metadata": {},
   "outputs": [
    {
     "name": "stdout",
     "output_type": "stream",
     "text": [
      "12,345.68\n"
     ]
    }
   ],
   "source": [
    "#inserting comma separators\n",
    "print(format(12345.6789, ',.2f'))"
   ]
  },
  {
   "cell_type": "code",
   "execution_count": 6,
   "metadata": {},
   "outputs": [
    {
     "name": "stdout",
     "output_type": "stream",
     "text": [
      "123,456,789.46\n"
     ]
    }
   ],
   "source": [
    "print(format(123456789.456, ',.2f'))"
   ]
  },
  {
   "cell_type": "code",
   "execution_count": 7,
   "metadata": {},
   "outputs": [
    {
     "name": "stdout",
     "output_type": "stream",
     "text": [
      "12,345.678900\n"
     ]
    }
   ],
   "source": [
    "#Example that specifies the comma separator, but does not specify precision\n",
    "\n",
    "print(format(12345.6789, ',f')) "
   ]
  },
  {
   "cell_type": "code",
   "execution_count": 8,
   "metadata": {},
   "outputs": [
    {
     "name": "stdout",
     "output_type": "stream",
     "text": [
      "Your annual pay is $60,000.00\n"
     ]
    }
   ],
   "source": [
    "#displaying a dollar sign\n",
    "# This program demonstrates how a floating-point\n",
    "# number can be displayed as currency.\n",
    "monthly_pay = 5000.0\n",
    "annual_pay = monthly_pay * 12\n",
    "print('Your annual pay is $', \n",
    "format(annual_pay, ',.2f'), \n",
    "sep='')"
   ]
  },
  {
   "cell_type": "markdown",
   "metadata": {},
   "source": [
    "Specifying a minimum field width\n",
    "\n",
    "The format specifier can also include a minimum field width, which is the minimum number of spaces that should be used to display the value. "
   ]
  },
  {
   "cell_type": "code",
   "execution_count": 10,
   "metadata": {},
   "outputs": [
    {
     "name": "stdout",
     "output_type": "stream",
     "text": [
      "The number is    12,345.68\n"
     ]
    }
   ],
   "source": [
    "print('The number is', format(12345.6789, '12,.2f')) # there is a 12 width space allocation for the number"
   ]
  },
  {
   "cell_type": "code",
   "execution_count": 9,
   "metadata": {},
   "outputs": [
    {
     "name": "stdout",
     "output_type": "stream",
     "text": [
      "The number is     12345.68\n"
     ]
    }
   ],
   "source": [
    "print('The number is', format(12345.6789, '12.2f')) #the number consumes 12 spaces wide #if the number is shorter than the width it is right justified."
   ]
  },
  {
   "cell_type": "code",
   "execution_count": 11,
   "metadata": {},
   "outputs": [
    {
     "name": "stdout",
     "output_type": "stream",
     "text": [
      " 127.90\n",
      "3465.15\n",
      "   3.78\n",
      " 264.82\n",
      "  88.08\n",
      " 800.00\n"
     ]
    }
   ],
   "source": [
    "#Field widths can help when you need to print numbers aligned in columns\n",
    "# This program displays the following\n",
    "# floating-point numbers in a column\n",
    "# with their decimal points aligned.\n",
    "num1 = 127.899\n",
    "num2 = 3465.148\n",
    "num3 = 3.776\n",
    "num4 = 264.821\n",
    "num5 = 88.081\n",
    "num6 = 799.999\n",
    "\n",
    "# Display each number in a field of 7 spaces\n",
    "# with 2 decimal places.\n",
    "print(format(num1, '7.2f'))\n",
    "print(format(num2, '7.2f'))\n",
    "print(format(num3, '7.2f'))\n",
    "print(format(num4, '7.2f'))\n",
    "print(format(num5, '7.2f'))\n",
    "print(format(num6, '7.2f'))"
   ]
  },
  {
   "cell_type": "markdown",
   "metadata": {},
   "source": [
    "Instead of using f as the type designator, you can use the % symbol to format a floating point number as a percentage. The % symbol causes the number to be multiplied by 100 and displayed with a % sign following it. Here is an example:"
   ]
  },
  {
   "cell_type": "code",
   "execution_count": 12,
   "metadata": {},
   "outputs": [
    {
     "name": "stdout",
     "output_type": "stream",
     "text": [
      "50.000000%\n"
     ]
    }
   ],
   "source": [
    "print(format(0.5, '%'))"
   ]
  },
  {
   "cell_type": "code",
   "execution_count": 13,
   "metadata": {},
   "outputs": [
    {
     "name": "stdout",
     "output_type": "stream",
     "text": [
      "50%\n"
     ]
    }
   ],
   "source": [
    "print(format(0.5, '.0%'))"
   ]
  },
  {
   "cell_type": "markdown",
   "metadata": {},
   "source": [
    "Formatting integers:\n",
    "You can also use the format function to format integers. There are two differences to keep in mind when writing a format specifier that will be used to format an integer:\n",
    "\n",
    "•\tYou use d as the type designator. <br>\n",
    "•\tYou cannot specify precision."
   ]
  },
  {
   "cell_type": "code",
   "execution_count": 15,
   "metadata": {},
   "outputs": [
    {
     "name": "stdout",
     "output_type": "stream",
     "text": [
      "123456\n",
      "123,456\n",
      "123456\n",
      "   123,456\n"
     ]
    }
   ],
   "source": [
    "print(format(123456, 'd'))\n",
    "print(format(123456, ',d')) #print with comma separator\n",
    "print(format(123456, 'd')) #123456 is printed in a field that is 10 spaces wide\n",
    "print(format(123456, '10,d')) #the number 123456 is printed with a comma separator in a field that is 10 spaces wide"
   ]
  },
  {
   "cell_type": "markdown",
   "metadata": {},
   "source": [
    "Named Constants - A named constant is a name that represents a value that cannot be changed during the program's execution.\n",
    "\n",
    "The following is an example of how we will declare named constants in our code:\n",
    "INTEREST_RATE = 0.069\n",
    "\n",
    "This creates a named constant named INTEREST_RATE that is assigned the value 0.069. Notice the named constant is written in all uppercase letters. This is a standard practice in most programming languages because it makes named constants easily distinguishable from regular variables.\n",
    "\n",
    "Advantages of NAMED CONSTANTS: <br>\n",
    "-They make programs more self-explanatory <br>\n",
    "-Widespread changes can easily be made to the program <br>\n",
    "-They help to prevent the typographical errors <br>"
   ]
  },
  {
   "cell_type": "code",
   "execution_count": 18,
   "metadata": {},
   "outputs": [
    {
     "name": "stdout",
     "output_type": "stream",
     "text": [
      "31.416\n"
     ]
    }
   ],
   "source": [
    "PI = 3.1416 #this is a constant\n",
    "r = 5\n",
    "print(2*PI*r) #calculating circumference of a circle"
   ]
  }
 ],
 "metadata": {
  "kernelspec": {
   "display_name": "Python 3",
   "language": "python",
   "name": "python3"
  },
  "language_info": {
   "codemirror_mode": {
    "name": "ipython",
    "version": 3
   },
   "file_extension": ".py",
   "mimetype": "text/x-python",
   "name": "python",
   "nbconvert_exporter": "python",
   "pygments_lexer": "ipython3",
   "version": "3.11.4"
  },
  "orig_nbformat": 4
 },
 "nbformat": 4,
 "nbformat_minor": 2
}
