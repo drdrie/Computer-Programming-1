{
 "cells": [
  {
   "cell_type": "markdown",
   "metadata": {},
   "source": [
    "The if statement is used to create a decision structure, which allows a program to have more than one path of execution. The if statement \n",
    "causes one or more statements to execute only when a Boolean expression is true."
   ]
  },
  {
   "cell_type": "code",
   "execution_count": 1,
   "metadata": {},
   "outputs": [
    {
     "name": "stdout",
     "output_type": "stream",
     "text": [
      "You are not a minor\n"
     ]
    }
   ],
   "source": [
    "age = 18\n",
    "if age > 17:\n",
    "    print(\"You are not a minor\")"
   ]
  },
  {
   "cell_type": "markdown",
   "metadata": {},
   "source": [
    "A control structure is a logical design that controls the order in which a set of statements execute. We have used the simplest type of control structure: the sequence structure. A sequence structure is a set of statements that execute in the order in which they appear (from top to bottom)."
   ]
  },
  {
   "cell_type": "code",
   "execution_count": null,
   "metadata": {},
   "outputs": [],
   "source": [
    "age = int(input(\"what is your age? \"))\n",
    "print(age)"
   ]
  },
  {
   "cell_type": "markdown",
   "metadata": {},
   "source": [
    "Although the sequence structure is heavily used in programming, it cannot handle every type of task. This is because some problems simply cannot be solved by performing a set of ordered steps, one after the other. For example, with the given age how can we determine if the user (age) is a minor or an adult? This type of problem requires a different type of control structure: one that can execute a set of statements only certain conditions. This can be accomplished with a decision structure or selection structures."
   ]
  },
  {
   "cell_type": "markdown",
   "metadata": {},
   "source": [
    "Single alternative decision structure - provides only one alternative path of execution. If the condition is true, we take the alternative path. Otherwise, we exit the structure. In Python, we use the if statement to write a single alternative decision structure. Here is the general format of the if statement: <br>\n",
    "\n",
    "if condition: <br>\n",
    "<code>&nbsp;&nbsp;&nbsp;&nbsp;statement</code> <br>\n",
    "<code>&nbsp;&nbsp;&nbsp;&nbsp;statement</code> <br>\n",
    "<code>&nbsp;&nbsp;&nbsp;&nbsp;statement</code> <br>\n",
    "<code>&nbsp;&nbsp;&nbsp;&nbsp;statement</code> <br>\n",
    "\n",
    "When the if statement executes, the condition is tested. If the condition is true, the statements that appear in the block following the if clause are executed. If the condition is false, the statements in the block are skipped.\n"
   ]
  },
  {
   "cell_type": "code",
   "execution_count": 2,
   "metadata": {},
   "outputs": [
    {
     "name": "stdout",
     "output_type": "stream",
     "text": [
      "Bring umbrella\n",
      "Bring raincoat\n",
      "Bring boots\n"
     ]
    }
   ],
   "source": [
    "raining = True\n",
    "if raining:\n",
    "    print(\"Bring umbrella\")\n",
    "    print(\"Bring raincoat\")\n",
    "    print(\"Bring boots\")"
   ]
  },
  {
   "cell_type": "markdown",
   "metadata": {},
   "source": [
    "The first line as the if clause. The if clause begins with the word if, followed by a condition, which is an expression that will be evaluated as either true or false. A colon appears after the condition. Beginning at the next line is a block of statements. A block is simply a set of statements that belong together as a group. All of the statements in the block are indented. This indentation is required because the Python interpreter uses it to tell where the block begins and ends. When the if statement executes, the condition is tested. If the condition is true, the statements that appear in the block following the if clause are executed. If the condition is false, the statements in the block are skipped."
   ]
  },
  {
   "cell_type": "code",
   "execution_count": 1,
   "metadata": {},
   "outputs": [],
   "source": [
    "raining = False\n",
    "if raining:\n",
    "    print(\"Bring umbrella\")\n",
    "    print(\"Bring raincoat\")\n",
    "    print(\"Bring boots\")"
   ]
  },
  {
   "cell_type": "markdown",
   "metadata": {},
   "source": [
    "Boolean Expressions and Relational Operators <br>\n",
    "\n",
    "The expressions that are tested by the if statement are called Boolean expressions, named in honor of the English mathematician George Boole. In the 1800s, Boole invented a system of mathematics in which the abstract concepts of true and false can be used in computations. Typically, the Boolean expression that is tested by an if statement is formed with a relational operator. A relational operator determines whether a specific relationship exists between two values. "
   ]
  },
  {
   "cell_type": "code",
   "execution_count": 1,
   "metadata": {},
   "outputs": [
    {
     "name": "stdout",
     "output_type": "stream",
     "text": [
      "True\n",
      "False\n",
      "True\n",
      "False\n",
      "False\n",
      "True\n"
     ]
    }
   ],
   "source": [
    "x = 5\n",
    "y = 3\n",
    "\n",
    "print(x > y) #greater than\n",
    "print(x < y) #less than\n",
    "print(x >= y) #greater than or equal\n",
    "print(x <= y) #less than or equal\n",
    "print(x == y) #equal to\n",
    "print(x != y) #not equal to\n"
   ]
  },
  {
   "cell_type": "code",
   "execution_count": 2,
   "metadata": {},
   "outputs": [
    {
     "name": "stdout",
     "output_type": "stream",
     "text": [
      "You met your sales quota!\n"
     ]
    }
   ],
   "source": [
    "sales = 500001\n",
    "if sales > 50000:\n",
    " bonus = 500.0\n",
    " commission_rate = 0.12\n",
    " print('You met your sales quota!')"
   ]
  },
  {
   "cell_type": "code",
   "execution_count": 3,
   "metadata": {},
   "outputs": [
    {
     "name": "stdout",
     "output_type": "stream",
     "text": [
      "Your account balance is 0.00\n"
     ]
    }
   ],
   "source": [
    "balance = 0\n",
    "if balance == 0:\n",
    " print(f\"Your account balance is {balance:.2f}\")"
   ]
  },
  {
   "cell_type": "code",
   "execution_count": 6,
   "metadata": {},
   "outputs": [
    {
     "name": "stdout",
     "output_type": "stream",
     "text": [
      "Your order number is not equal to 5.\n"
     ]
    }
   ],
   "source": [
    "order_num = 6\n",
    "if order_num != 5:\n",
    " print(\"Your order number is not equal to 5.\")"
   ]
  }
 ],
 "metadata": {
  "kernelspec": {
   "display_name": "Python 3",
   "language": "python",
   "name": "python3"
  },
  "language_info": {
   "codemirror_mode": {
    "name": "ipython",
    "version": 3
   },
   "file_extension": ".py",
   "mimetype": "text/x-python",
   "name": "python",
   "nbconvert_exporter": "python",
   "pygments_lexer": "ipython3",
   "version": "3.11.4"
  },
  "orig_nbformat": 4
 },
 "nbformat": 4,
 "nbformat_minor": 2
}
