{
 "cells": [
  {
   "attachments": {},
   "cell_type": "markdown",
   "metadata": {},
   "source": [
    "Displaying Output with the print Function - you use the print function to display output in a Python program."
   ]
  },
  {
   "cell_type": "code",
   "execution_count": null,
   "metadata": {},
   "outputs": [],
   "source": [
    "print(\"Hello World!\")"
   ]
  },
  {
   "attachments": {},
   "cell_type": "markdown",
   "metadata": {},
   "source": [
    "When you call the print function, you type the word print followed by a set of parentheses. Inside the parentheses, you type an argument, which is the data that you want displayed on the screen. The quote marks simply specify the beginning and the end of the text that you wish to display."
   ]
  },
  {
   "attachments": {},
   "cell_type": "markdown",
   "metadata": {},
   "source": [
    "You can have multiple print statements. They are executed in order."
   ]
  },
  {
   "cell_type": "code",
   "execution_count": null,
   "metadata": {},
   "outputs": [],
   "source": [
    "print('Jane Doe')\n",
    "print('Magsaysay St.')\n",
    "print('Cogon, Sorsogon City')"
   ]
  },
  {
   "attachments": {},
   "cell_type": "markdown",
   "metadata": {},
   "source": [
    "The data inside the print function are sequence of characters called string. When a atring appears in the actual code of a program, it is called a string literal. In Python, string literals are enclodes in quote marks, either single or double quote ('') (\"\")"
   ]
  },
  {
   "attachments": {},
   "cell_type": "markdown",
   "metadata": {},
   "source": [
    "If you want a string literal to contain either a single-quote or an apostrophe as part of the string, you can enclose the string literal in double-quote marks."
   ]
  },
  {
   "cell_type": "code",
   "execution_count": 3,
   "metadata": {},
   "outputs": [
    {
     "name": "stdout",
     "output_type": "stream",
     "text": [
      "Jane's Fastfood\n",
      "They're here!\n"
     ]
    }
   ],
   "source": [
    "print(\"Jane's Fastfood\")\n",
    "print(\"They're here!\")"
   ]
  },
  {
   "attachments": {},
   "cell_type": "markdown",
   "metadata": {},
   "source": [
    "Likewise, you can use single-quote marks to enclose a string literal that contains double quotes as part of the string."
   ]
  },
  {
   "cell_type": "code",
   "execution_count": 4,
   "metadata": {},
   "outputs": [
    {
     "name": "stdout",
     "output_type": "stream",
     "text": [
      "He said, \"Let the games begin!\"\n"
     ]
    }
   ],
   "source": [
    "print('He said, \"Let the games begin!\"')"
   ]
  },
  {
   "attachments": {},
   "cell_type": "markdown",
   "metadata": {},
   "source": [
    "Python also allows you to enclose string literals in triple quotes (either \"\"\" or '''). Triple quoted strings can contain both single quotes and double quotes as part of the string. The following statement shows an example:"
   ]
  },
  {
   "cell_type": "code",
   "execution_count": 5,
   "metadata": {},
   "outputs": [
    {
     "name": "stdout",
     "output_type": "stream",
     "text": [
      "I'm reading \"Hamlet\" tonight.\n"
     ]
    }
   ],
   "source": [
    "print(\"\"\"I'm displaying values using \"print\" function.\"\"\")"
   ]
  },
  {
   "attachments": {},
   "cell_type": "markdown",
   "metadata": {},
   "source": [
    "Triple quotes can also be used to surround multiline strings, something for which single and \n",
    "double quotes cannot be used."
   ]
  },
  {
   "cell_type": "code",
   "execution_count": 6,
   "metadata": {},
   "outputs": [
    {
     "name": "stdout",
     "output_type": "stream",
     "text": [
      "Line One\n",
      "Line Two\n",
      "Line Three\n"
     ]
    }
   ],
   "source": [
    "print(\"\"\"Line One\n",
    "Line Two\n",
    "Line Three\"\"\")"
   ]
  },
  {
   "attachments": {},
   "cell_type": "markdown",
   "metadata": {},
   "source": [
    "Comments are notes of explanation that document lines or sections of a program. Comments are part of the program, but the Python interpreter \n",
    "ignores them. They are intended for people who may be reading the source code."
   ]
  },
  {
   "cell_type": "code",
   "execution_count": 1,
   "metadata": {},
   "outputs": [
    {
     "name": "stdout",
     "output_type": "stream",
     "text": [
      "Jane Doe\n",
      "Magsaysay St.\n",
      "Cogon, Sorsogon City\n"
     ]
    }
   ],
   "source": [
    "#This program displays a person's name and address\n",
    "print('Jane Doe')\n",
    "print('Magsaysay St.')\n",
    "print('Cogon, Sorsogon City')"
   ]
  },
  {
   "attachments": {},
   "cell_type": "markdown",
   "metadata": {},
   "source": [
    "You also put comments for each line, explaining what it does."
   ]
  },
  {
   "cell_type": "code",
   "execution_count": null,
   "metadata": {},
   "outputs": [],
   "source": [
    "print('Jane Doe') #Display the name\n",
    "print('Magsaysay St.') #Display the street name\n",
    "print('Cogon, Sorsogon City') #Display the city"
   ]
  }
 ],
 "metadata": {
  "kernelspec": {
   "display_name": "Python 3",
   "language": "python",
   "name": "python3"
  },
  "language_info": {
   "codemirror_mode": {
    "name": "ipython",
    "version": 3
   },
   "file_extension": ".py",
   "mimetype": "text/x-python",
   "name": "python",
   "nbconvert_exporter": "python",
   "pygments_lexer": "ipython3",
   "version": "3.11.4"
  },
  "orig_nbformat": 4
 },
 "nbformat": 4,
 "nbformat_minor": 2
}
