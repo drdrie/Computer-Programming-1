{
 "cells": [
  {
   "attachments": {},
   "cell_type": "markdown",
   "metadata": {},
   "source": [
    "A variable is a name that represents a value stored in the computer's memory. Programs usually store data in the computer’s memory and perform operations on that data. Programs use variables to access and manipulate data that is stored in memory. A variable is name that represents a value in the computer's memory."
   ]
  },
  {
   "cell_type": "code",
   "execution_count": null,
   "metadata": {},
   "outputs": [],
   "source": [
    "age = 25 #This is an assignment statement #age references 25"
   ]
  },
  {
   "attachments": {},
   "cell_type": "markdown",
   "metadata": {},
   "source": [
    "You use an assignment statement to create a variable and make it reference a piece of data. \n",
    "An assignment statement in this format:\n",
    "\n",
    "variable = expression"
   ]
  },
  {
   "cell_type": "code",
   "execution_count": 1,
   "metadata": {},
   "outputs": [
    {
     "ename": "SyntaxError",
     "evalue": "cannot assign to literal here. Maybe you meant '==' instead of '='? (1772120562.py, line 2)",
     "output_type": "error",
     "traceback": [
      "\u001b[1;36m  Cell \u001b[1;32mIn[1], line 2\u001b[1;36m\u001b[0m\n\u001b[1;33m    25 = age\u001b[0m\n\u001b[1;37m    ^\u001b[0m\n\u001b[1;31mSyntaxError\u001b[0m\u001b[1;31m:\u001b[0m cannot assign to literal here. Maybe you meant '==' instead of '='?\n"
     ]
    }
   ],
   "source": [
    "#An incorrect way of assigning value to a variable\n",
    "25 = age"
   ]
  },
  {
   "attachments": {},
   "cell_type": "markdown",
   "metadata": {},
   "source": [
    "You can print the value using the variable."
   ]
  },
  {
   "cell_type": "code",
   "execution_count": 2,
   "metadata": {},
   "outputs": [
    {
     "name": "stdout",
     "output_type": "stream",
     "text": [
      "25\n"
     ]
    }
   ],
   "source": [
    "age = 25\n",
    "print(age)"
   ]
  },
  {
   "cell_type": "code",
   "execution_count": 3,
   "metadata": {},
   "outputs": [
    {
     "name": "stdout",
     "output_type": "stream",
     "text": [
      "age\n",
      "25\n"
     ]
    }
   ],
   "source": [
    "#String literal vs. Variable\n",
    "print(\"age\")\n",
    "print(age)"
   ]
  },
  {
   "attachments": {},
   "cell_type": "markdown",
   "metadata": {},
   "source": [
    "You can also print a variable along with a string literal. "
   ]
  },
  {
   "cell_type": "code",
   "execution_count": 7,
   "metadata": {},
   "outputs": [
    {
     "name": "stdout",
     "output_type": "stream",
     "text": [
      "My age is\n",
      "25\n",
      ".\n"
     ]
    }
   ],
   "source": [
    "print(\"My age is\")\n",
    "print(age)"
   ]
  },
  {
   "cell_type": "code",
   "execution_count": 8,
   "metadata": {},
   "outputs": [
    {
     "name": "stdout",
     "output_type": "stream",
     "text": [
      "My age is 25 .\n"
     ]
    }
   ],
   "source": [
    "#Another example\n",
    "#print variable with a string literal in one line\n",
    "print(\"My age is\", age, \".\")"
   ]
  },
  {
   "attachments": {},
   "cell_type": "markdown",
   "metadata": {},
   "source": [
    "You can declare multiple variables."
   ]
  },
  {
   "cell_type": "code",
   "execution_count": 10,
   "metadata": {},
   "outputs": [
    {
     "name": "stdout",
     "output_type": "stream",
     "text": [
      "Her name is Jane Doe\n",
      "and here age is 25\n"
     ]
    }
   ],
   "source": [
    "name = \"Jane Doe\"\n",
    "age = 25\n",
    "print(\"Her name is\", name)\n",
    "print(\"and here age is\", age)"
   ]
  },
  {
   "attachments": {},
   "cell_type": "markdown",
   "metadata": {},
   "source": [
    "Just remember, You cannot use a variable until you have assigned a value to it. An error will occur if you try to perform an operation on a variable, such as printing it, before it has been assigned a value."
   ]
  },
  {
   "cell_type": "code",
   "execution_count": 11,
   "metadata": {},
   "outputs": [
    {
     "ename": "NameError",
     "evalue": "name 'address' is not defined",
     "output_type": "error",
     "traceback": [
      "\u001b[1;31m---------------------------------------------------------------------------\u001b[0m",
      "\u001b[1;31mNameError\u001b[0m                                 Traceback (most recent call last)",
      "Cell \u001b[1;32mIn[11], line 1\u001b[0m\n\u001b[1;32m----> 1\u001b[0m \u001b[39mprint\u001b[39m(address)\n",
      "\u001b[1;31mNameError\u001b[0m: name 'address' is not defined"
     ]
    }
   ],
   "source": [
    "print(address)"
   ]
  },
  {
   "cell_type": "code",
   "execution_count": 12,
   "metadata": {},
   "outputs": [
    {
     "ename": "NameError",
     "evalue": "name 'tempereture' is not defined",
     "output_type": "error",
     "traceback": [
      "\u001b[1;31m---------------------------------------------------------------------------\u001b[0m",
      "\u001b[1;31mNameError\u001b[0m                                 Traceback (most recent call last)",
      "Cell \u001b[1;32mIn[12], line 3\u001b[0m\n\u001b[0;32m      1\u001b[0m \u001b[39m#Another example is if you misspelled a variable name\u001b[39;00m\n\u001b[0;32m      2\u001b[0m temperature \u001b[39m=\u001b[39m \u001b[39m100\u001b[39m\n\u001b[1;32m----> 3\u001b[0m \u001b[39mprint\u001b[39m(tempereture)\n",
      "\u001b[1;31mNameError\u001b[0m: name 'tempereture' is not defined"
     ]
    }
   ],
   "source": [
    "#Another example is if you misspelled a variable name\n",
    "temperature = 100\n",
    "print(tempereture)"
   ]
  },
  {
   "attachments": {},
   "cell_type": "markdown",
   "metadata": {},
   "source": [
    "Rules to follow when naming variables:\n",
    "1. You cannot use Python keywords as variable name. Find the list of keywords here: https://www.w3schools.com/python/python_ref_keywords.asp\n",
    "2. A variable name cannot contain spaces.\n",
    "3. The first character must be one of the letters a through z, A through Z, or an under score character (_).\n",
    "4. After the first character you may use the letters a through z or A through Z, the digits 0 through 9, or underscores.\n",
    "5. Uppercase and lowercase characters are distinct. This means the variable name Age is not the same as age.\n",
    "\n",
    "Note: Use variable names should reflect the variable's purpose.\n",
    "Example:\n",
    "age\n",
    "avg_grade\n",
    "totalProductsSold"
   ]
  },
  {
   "attachments": {},
   "cell_type": "markdown",
   "metadata": {},
   "source": [
    "camelCase naming convention\n",
    "-Variable name begins with lowecase letters.\n",
    "-First character of the second and subsequent words is written in uppercase."
   ]
  },
  {
   "cell_type": "code",
   "execution_count": null,
   "metadata": {},
   "outputs": [],
   "source": [
    "#camelCase Example\n",
    "dayOfWeek = \"Monday\""
   ]
  },
  {
   "attachments": {},
   "cell_type": "markdown",
   "metadata": {},
   "source": [
    "snakeCase naming convention\n",
    "Each word is separated by an underscore character:"
   ]
  },
  {
   "cell_type": "code",
   "execution_count": null,
   "metadata": {},
   "outputs": [],
   "source": [
    "day_of_week = \"Monday\""
   ]
  },
  {
   "attachments": {},
   "cell_type": "markdown",
   "metadata": {},
   "source": [
    "You will get an error when you have an illegal variable declaration."
   ]
  },
  {
   "cell_type": "code",
   "execution_count": 1,
   "metadata": {},
   "outputs": [
    {
     "ename": "SyntaxError",
     "evalue": "invalid decimal literal (2886329682.py, line 3)",
     "output_type": "error",
     "traceback": [
      "\u001b[1;36m  Cell \u001b[1;32mIn[1], line 3\u001b[1;36m\u001b[0m\n\u001b[1;33m    3dGraph = 1 #Illegal. Variable names cannot begin with a digit.\u001b[0m\n\u001b[1;37m    ^\u001b[0m\n\u001b[1;31mSyntaxError\u001b[0m\u001b[1;31m:\u001b[0m invalid decimal literal\n"
     ]
    }
   ],
   "source": [
    "units_per_subj = 3 #legal\n",
    "dayOfWeek = \"Wednesday\" #Legal\n",
    "3dGraph = 1 #Illegal. Variable names cannot begin with a digit.\n",
    "June1997 = True #Legal\n",
    "Mixture?3 = \"Solid\" #Illegal. Variable names may only use letters, digits, or underscores"
   ]
  },
  {
   "attachments": {},
   "cell_type": "markdown",
   "metadata": {},
   "source": [
    "Variable reassignment - When you assign a value to a variable, the variable will reference that value \n",
    "until you assign it a different value."
   ]
  },
  {
   "cell_type": "code",
   "execution_count": 2,
   "metadata": {},
   "outputs": [
    {
     "name": "stdout",
     "output_type": "stream",
     "text": [
      "26\n"
     ]
    }
   ],
   "source": [
    "x = 25 #Initial value of x is 25\n",
    "x = 26 #x is reassigned to a new value\n",
    "print(x)"
   ]
  },
  {
   "cell_type": "code",
   "execution_count": 3,
   "metadata": {},
   "outputs": [
    {
     "name": "stdout",
     "output_type": "stream",
     "text": [
      "Your account balance is 100\n",
      "Your new account balance is 105\n"
     ]
    }
   ],
   "source": [
    "#Another example\n",
    "accountBalance = 100 #Initial value of accountBalance is 100\n",
    "print(\"Your account balance is\", accountBalance)\n",
    "\n",
    "#Reassign accountBalance a new value\n",
    "accountBalance = 105\n",
    "print(\"Your new account balance is\", accountBalance)\n",
    "\n"
   ]
  },
  {
   "attachments": {},
   "cell_type": "markdown",
   "metadata": {},
   "source": [
    "Numeric Data Types and Literals - Python uses data types to categorize values in memory. \n",
    "\n",
    "Different examples of data types:\n",
    "int | positive and negative whole numbers | 20, -20, 1546578\n",
    "float | positive and negative numbers with a decimal point | 5.2, -10.0, 99.99\n",
    "str | sequences of character data (enclosed in quotation marks) | \"Hello World\", \"Jane Doe\", \"age\"\n",
    "bool | has one of two possible values (usually denoted true and false) | True, False"
   ]
  },
  {
   "cell_type": "code",
   "execution_count": 5,
   "metadata": {},
   "outputs": [
    {
     "name": "stdout",
     "output_type": "stream",
     "text": [
      "<class 'int'>\n",
      "<class 'str'>\n",
      "<class 'bool'>\n",
      "<class 'float'>\n"
     ]
    }
   ],
   "source": [
    "#Check type of data using type()\n",
    "age = 25\n",
    "print(type(age))\n",
    "\n",
    "name = \"Jane Doe\"\n",
    "print(type(name))\n",
    "\n",
    "answer = True\n",
    "print(type(answer))\n",
    "\n",
    "balance = 10.50\n",
    "print(type(balance))"
   ]
  },
  {
   "attachments": {},
   "cell_type": "markdown",
   "metadata": {},
   "source": [
    "You cannot write currency symbols, spaces or commas in numeric literals. For example:"
   ]
  },
  {
   "cell_type": "code",
   "execution_count": 6,
   "metadata": {},
   "outputs": [
    {
     "ename": "SyntaxError",
     "evalue": "invalid syntax (2165622802.py, line 1)",
     "output_type": "error",
     "traceback": [
      "\u001b[1;36m  Cell \u001b[1;32mIn[6], line 1\u001b[1;36m\u001b[0m\n\u001b[1;33m    value = $4,567.99 # Error!\u001b[0m\n\u001b[1;37m            ^\u001b[0m\n\u001b[1;31mSyntaxError\u001b[0m\u001b[1;31m:\u001b[0m invalid syntax\n"
     ]
    }
   ],
   "source": [
    "value = $4,567.99 # Error!"
   ]
  },
  {
   "cell_type": "code",
   "execution_count": 7,
   "metadata": {},
   "outputs": [],
   "source": [
    "#Instead, do this\n",
    "value = 4567.99 # Error!"
   ]
  },
  {
   "cell_type": "code",
   "execution_count": 8,
   "metadata": {},
   "outputs": [
    {
     "name": "stdout",
     "output_type": "stream",
     "text": [
      "Kathryn Bernardo\n"
     ]
    }
   ],
   "source": [
    "# Create variables to reference two strings.\n",
    "first_name = 'Kathryn'\n",
    "last_name = 'Bernardo'\n",
    "\n",
    "#Display the values referenced by the variables.\n",
    "print(first_name, last_name)"
   ]
  },
  {
   "attachments": {},
   "cell_type": "markdown",
   "metadata": {},
   "source": [
    "Reassigning a Variable to a Different Type - A variable in Python can refer to items of any type. After a variable has been assigned an \n",
    "item of one type, it can be reassigned an item of a different type. "
   ]
  },
  {
   "cell_type": "code",
   "execution_count": 9,
   "metadata": {},
   "outputs": [
    {
     "name": "stdout",
     "output_type": "stream",
     "text": [
      "Jane Doe\n",
      "25\n"
     ]
    }
   ],
   "source": [
    "value = \"Jane Doe\"\n",
    "print(value)\n",
    "\n",
    "value = 25\n",
    "print(value)"
   ]
  }
 ],
 "metadata": {
  "kernelspec": {
   "display_name": "Python 3",
   "language": "python",
   "name": "python3"
  },
  "language_info": {
   "codemirror_mode": {
    "name": "ipython",
    "version": 3
   },
   "file_extension": ".py",
   "mimetype": "text/x-python",
   "name": "python",
   "nbconvert_exporter": "python",
   "pygments_lexer": "ipython3",
   "version": "3.11.4"
  },
  "orig_nbformat": 4
 },
 "nbformat": 4,
 "nbformat_minor": 2
}
