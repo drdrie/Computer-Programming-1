{
 "cells": [
  {
   "cell_type": "markdown",
   "metadata": {},
   "source": [
    "An if-else statement will execute one block of statements if its condition is true, or another block if its condition is false. The dual alternative decision structure, which has two possible paths of execution—one path is taken if a condition is true, and the other path is taken if the condition is false."
   ]
  },
  {
   "cell_type": "code",
   "execution_count": 1,
   "metadata": {},
   "outputs": [
    {
     "name": "stdout",
     "output_type": "stream",
     "text": [
      "You have a fever!\n"
     ]
    }
   ],
   "source": [
    "temperature = 40\n",
    "\n",
    "if temperature > 37.5:\n",
    "    print(\"You have a fever!\")\n",
    "else:\n",
    "    print(\"You're temperature is normal.\")"
   ]
  },
  {
   "cell_type": "code",
   "execution_count": 3,
   "metadata": {},
   "outputs": [
    {
     "name": "stdout",
     "output_type": "stream",
     "text": [
      "You're temperature is normal.\n",
      "This is outside the conditions.\n"
     ]
    }
   ],
   "source": [
    "temperature = 40\n",
    "\n",
    "if temperature > 37.5: #When this statement executes, the condition is tested. \n",
    "    print(\"You have a fever!\") #If it is true, the block of indented statements following the if clause is executed\n",
    "else:\n",
    "    print(\"You're temperature is normal.\") #If the condition is false, the block of indented statements following the else clause is executed\n",
    "\n",
    "print(\"This is outside the conditions.\") #then the control of the program jumps to statement that follows the if-else statment. "
   ]
  },
  {
   "cell_type": "markdown",
   "metadata": {},
   "source": [
    "When you write an if-else statement, follow these guidelines for indentation: <br>\n",
    "•\t Make sure the if clause and the else clause are aligned. <br>\n",
    "•\t The if clause and the else clause are each followed by a block of statements. Make sure the statements in the blocks are consistently indented"
   ]
  },
  {
   "cell_type": "code",
   "execution_count": 4,
   "metadata": {},
   "outputs": [
    {
     "name": "stdout",
     "output_type": "stream",
     "text": [
      "Sorry, that is the wrong password.\n"
     ]
    }
   ],
   "source": [
    "#Comparing string \n",
    "\n",
    "#String comparisons are case sensitive. #LetMeIn is not equal to letmein\n",
    "\n",
    "# This program compares two strings.\n",
    "# Get a password from the user.\n",
    "password = input('Enter the password: ')\n",
    "\n",
    "# Determine whether the correct password\n",
    "# was entered.\n",
    "if password == 'LetMeIn':\n",
    "    print('Password accepted.')\n",
    "else:\n",
    "    print('Sorry, that is the wrong password.')"
   ]
  },
  {
   "cell_type": "markdown",
   "metadata": {},
   "source": [
    "Other String Comparisons\n",
    "\n",
    "In addition to determining whether strings are equal or not equal, you can also determine whether one string is greater than or less than another string. This is a useful capability \n",
    "because programmers commonly need to design programs that sort strings in some order.\n",
    "\n",
    "Computers do not actually store characters, such as A, B, C, and so on, in memory. Instead, they store numeric codes that represent the characters. ASCII (the American Standard Code for Information Interchange) is a commonly used character coding system. Check ASCII codes here: https://www.ascii-code.com/characters/A-Z \n"
   ]
  },
  {
   "cell_type": "code",
   "execution_count": null,
   "metadata": {},
   "outputs": [],
   "source": [
    "# This program compares strings with the < operator.\n",
    "# Get two names from the user.\n",
    "name1 = input('Enter a name (last name first): ')\n",
    "name2 = input('Enter another name (last name first): ')\n",
    "\n",
    "# Display the names in alphabetical order.\n",
    "print('Here are the names, listed alphabetically.')\n",
    "\n",
    "if name1 < name2: # The > operator compares each character in the strings beginning with the first, or leftmost, characters. \n",
    " print(name1)\n",
    " print(name2)\n",
    "else:\n",
    " print(name2)\n",
    " print(name1)"
   ]
  }
 ],
 "metadata": {
  "kernelspec": {
   "display_name": "Python 3",
   "language": "python",
   "name": "python3"
  },
  "language_info": {
   "codemirror_mode": {
    "name": "ipython",
    "version": 3
   },
   "file_extension": ".py",
   "mimetype": "text/x-python",
   "name": "python",
   "nbconvert_exporter": "python",
   "pygments_lexer": "ipython3",
   "version": "3.11.4"
  },
  "orig_nbformat": 4
 },
 "nbformat": 4,
 "nbformat_minor": 2
}
