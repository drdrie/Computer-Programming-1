{
 "cells": [
  {
   "cell_type": "markdown",
   "metadata": {},
   "source": [
    "A repetition structure causes a statement or set of statements to execute repeatedly."
   ]
  },
  {
   "cell_type": "code",
   "execution_count": null,
   "metadata": {},
   "outputs": [],
   "source": [
    "#ask the user to input numbers and calculate the sum of all inputs\n",
    "#code without the repitition structure\n",
    "\n",
    "total = 0\n",
    "num1 = int(input(\"Input a nunber: \"))\n",
    "total = total + num1\n",
    "\n",
    "#repeat for the second - fifth number\n",
    "num2 = int(input(\"Input a nunber: \"))\n",
    "total = total + num2\n",
    "\n",
    "num3 = int(input(\"Input a nunber: \"))\n",
    "total = total + num3\n",
    "\n",
    "num4 = int(input(\"Input a nunber: \"))\n",
    "total = total + num4\n",
    "\n",
    "num5 = int(input(\"Input a nunber: \"))\n",
    "total = total + num5\n",
    "\n",
    "print(total)"
   ]
  },
  {
   "cell_type": "markdown",
   "metadata": {},
   "source": [
    "The current code exhibits repetition, leading to several issues, such as: <br>\n",
    "\n",
    "• The repeated segments cause the program to be bulkier than necessary.  <br> \n",
    "• Crafting an extensive linear series of commands is inefficient in terms of time.  <br>\n",
    "• Any modifications or fixes in the repetitive parts will have to be replicated multiple times, which is cumbersome. <br>\n",
    "\n",
    "A more efficient strategy is to code the specific operation just once and then utilize a construct that instructs the computer to iterate over it as required. This approach leverages what's known in programming as a loop. <br>"
   ]
  },
  {
   "cell_type": "markdown",
   "metadata": {},
   "source": [
    "Loops can be primarily categorized into two types: those governed by conditions and those driven by counts. A loop steered by a condition relies on a boolean condition to determine its repetitions, whereas a count-driven loop executes for a predetermined number of iterations. In Python, the `while` keyword facilitates the creation of condition-based loops, while the `for` keyword is used to design loops that run for a set number of cycles."
   ]
  },
  {
   "cell_type": "markdown",
   "metadata": {},
   "source": [
    "The while loop - A condition-controlled loop causes a statement or set of statements to repeat as long as a condition is true. In Python, you use the while statement to write a condition-controlled loop."
   ]
  },
  {
   "cell_type": "markdown",
   "metadata": {},
   "source": [
    "The while loop gets its name from the way it works: while a condition is true, do some task. The loop has two parts: (1) a condition that is tested for a true or false value, and (2) a statement or set of statements that is repeated as long as the condition is true."
   ]
  },
  {
   "cell_type": "markdown",
   "metadata": {},
   "source": [
    "Here is the general format of the while loop in Python: <br>\n",
    "\n",
    "<code>while condition:</code> <br>\n",
    "<code>&nbsp;&nbsp;&nbsp;&nbsp;statement</code> <br>\n",
    "<code>&nbsp;&nbsp;&nbsp;&nbsp;statement</code> <br>\n",
    "<code>&nbsp;&nbsp;&nbsp;&nbsp;statement</code> <br>\n",
    "<code>&nbsp;&nbsp;&nbsp;&nbsp;statement</code> <br>\n"
   ]
  },
  {
   "cell_type": "code",
   "execution_count": null,
   "metadata": {},
   "outputs": [],
   "source": [
    "keep_going = 'y'\n",
    "\n",
    "total = 0\n",
    "\n",
    "while keep_going == 'y': # the loop will not execute since the condition is false\n",
    "    num = int(input(\"Input a number: \")) # \n",
    "    total = total + num\n",
    "    print(total)\n",
    "    keep_going = input(\"Do you want to add another nunber? (Enter y for yes):\") #\n"
   ]
  },
  {
   "cell_type": "markdown",
   "metadata": {},
   "source": [
    "The while clause begins with the word while, followed by a Boolean condition that will be evaluated as either true or false. A colon appears after the condition. Beginning at the next line is a block of statements. t all of the statements in a block must be consistently indented. This indentation is required because the Python interpreter uses it to tell where the block begins and ends.\n",
    "\n",
    "When the while loop executes, the condition is tested. If the condition is true, the statements that appear in the block following the while clause are executed, and the loop starts \n",
    "over. If the condition is false, the program exits the loop."
   ]
  },
  {
   "cell_type": "markdown",
   "metadata": {},
   "source": [
    "The while loop is known as a pretest loop, which means it tests its condition before performing an iteration. The while loop is known as a pretest loop, which means it tests its condition before performing an iteration."
   ]
  },
  {
   "cell_type": "code",
   "execution_count": null,
   "metadata": {},
   "outputs": [],
   "source": [
    "#pretesting the loop\n",
    "#if keep_going has an initial value of 'n'\n",
    "\n",
    "keep_going = 'n'\n",
    "\n",
    "total = 0\n",
    "\n",
    "while keep_going == 'y': # the loop will not execute since the condition is false\n",
    "    num = int(input(\"Input a number: \")) # \n",
    "    total = total + num\n",
    "    print(total)\n",
    "    keep_going = input(\"Do you want to add another nunber? (Enter y for yes):\") #\n"
   ]
  },
  {
   "cell_type": "markdown",
   "metadata": {},
   "source": [
    "Program with a while loop <br>\n",
    "\n",
    "A project currently underway at Chemical Labs, Inc. requires that a substance be continually heated in a vat. A technician must check the substance’s temperature every 15 minutes. \n",
    "If the substance’s temperature does not exceed 102.5 degrees Celsius, then the technician does nothing. However, if the temperature is greater than 102.5 degrees Celsius, the technician must turn down the vat’s thermostat, wait 5 minutes, and check the temperature again. The technician repeats these steps until the temperature does not exceed 102.5 degrees Celsius. The director of engineering has asked you to write a program that guides the technician through this process. Here is the algorithm: <br>\n",
    "\n",
    "1. Get the substance’s temperature. <br>\n",
    "2. Repeat the following steps as long as the temperature is greater than 102.5 degrees Celsius: <br>\n",
    " a. Tell the technician to turn down the thermostat, wait 5 minutes, and check the temperature again. <br>\n",
    " b. Get the substance’s temperature. <br>\n",
    "3. After the loop finishes, tell the technician that the temperature is acceptable and to check it again in 15 minutes <br>"
   ]
  },
  {
   "cell_type": "code",
   "execution_count": null,
   "metadata": {},
   "outputs": [],
   "source": [
    "# This program assists a technician in the process\n",
    "# of checking a substance's temperature.\n",
    "\n",
    "# Named constant to represent the maximum\n",
    "# temperature.\n",
    "MAX_TEMP = 102.5\n",
    "\n",
    "# Get the substance's temperature.\n",
    "temperature = float(input(\"Enter the substance's Celsius temperature: \"))\n",
    "\n",
    "# As long as necessary, instruct the user to\n",
    "# adjust the thermostat.\n",
    "while temperature > MAX_TEMP:\n",
    " print('The temperature is too high.')\n",
    " print('Turn the thermostat down and wait')\n",
    " print('5 minutes. Then take the temperature')\n",
    " print('again and enter it.')\n",
    " temperature = float(input('Enter the new Celsius temperature: '))\n",
    "\n",
    "# Remind the user to check the temperature again\n",
    "# in 15 minutes.\n",
    "print('The temperature is acceptable.')\n",
    "print('Check it again in 15 minutes.')"
   ]
  },
  {
   "cell_type": "markdown",
   "metadata": {},
   "source": [
    "Infinite loops <br>\n",
    "\n",
    "In all but rare cases, loops must contain within themselves a way to terminate. This means that something inside the loop must eventually make the test condition false. If a loop does not have a way of stopping, it is called an infinite loop. An infinite loop continues to repeat until the program is interrupted. Infinite loops usually occur when the programmer forgets to write code inside the loop that makes the test condition false. In most circumstances, you should avoid writing infinite loops\n"
   ]
  },
  {
   "cell_type": "code",
   "execution_count": null,
   "metadata": {},
   "outputs": [],
   "source": [
    "#pretesting the loop\n",
    "#if keep_going has an initial value of 'n'\n",
    "\n",
    "keep_going = 'y'\n",
    "\n",
    "total = 0\n",
    "\n",
    "while keep_going == 'y': # the loop will not execute since the condition is false\n",
    "    num = int(input(\"Input a number: \")) # \n",
    "    total = total + num\n",
    "    print(total)\n",
    "    #keep_going = input(\"Do you want to add another nunber? (Enter y for yes):\") # removed this part of code the modifies the keep_going variable\n"
   ]
  },
  {
   "cell_type": "markdown",
   "metadata": {},
   "source": [
    "The for loop - A count-controlled loop iterates a specific number of times. In Python, you use the for statement to write a count-controlled loop. Count-controlled loops are commonly used in programs. You use the for statement to write a count-controlled loop. In Python, the for statement is designed to work with a sequence of data items. When the statement executes, it iterates once for each item in the sequence. Here is the general format: <br>\n",
    "\n",
    "<code>for variable in [value1, value2, etc.]:</code> <br>\n",
    "<code>&nbsp;&nbsp;&nbsp;&nbsp;statement</code> <br>\n",
    "<code>&nbsp;&nbsp;&nbsp;&nbsp;statement</code> <br>\n",
    "<code>&nbsp;&nbsp;&nbsp;&nbsp;statement</code> <br>\n",
    "<code>&nbsp;&nbsp;&nbsp;&nbsp;statement</code> <br>\n",
    "\n",
    "In the for clause, variable is the name of a variable. Inside the brackets a sequence of values appears, with a comma separating each value. (In Python, a comma-separated sequence of data items that are enclosed in a set of brackets is called a list. This will be disccused in the next lessons). Beginning at the next line is a block of statements that is executed each time the loop iterates. The for statement executes in the following manner: The variable is assigned the first value in the list, then the statements that appear in the block are executed. Then, variable is assigned the next value in the list, and the statements in the block are executed again. This continues until variable has been assigned the last value in the list."
   ]
  },
  {
   "cell_type": "code",
   "execution_count": null,
   "metadata": {},
   "outputs": [
    {
     "name": "stdout",
     "output_type": "stream",
     "text": [
      "I will display the numbers 1 through 5.\n",
      "1\n",
      "2\n",
      "3\n",
      "4\n",
      "5\n"
     ]
    }
   ],
   "source": [
    "# This program demonstrates a simple for loop\n",
    "# that uses a list of numbers.\n",
    "\n",
    "print('I will display the numbers 1 through 5.')\n",
    "for num in [1, 2, 3, 4, 5]:\n",
    " print(num)"
   ]
  },
  {
   "cell_type": "code",
   "execution_count": null,
   "metadata": {},
   "outputs": [
    {
     "name": "stdout",
     "output_type": "stream",
     "text": [
      "John\n",
      "Jane\n",
      "June\n"
     ]
    }
   ],
   "source": [
    "#This also works with a list of strings\n",
    "\n",
    "# This program also demonstrates a simple for\n",
    "# loop that uses a list of strings.\n",
    "\n",
    "for name in ['John', 'Jane', 'June']:\n",
    " print(name)"
   ]
  },
  {
   "cell_type": "markdown",
   "metadata": {},
   "source": [
    "Using the range function with the for loop <br>\n",
    "\n",
    "Python provides a built-in function named range that simplifies the process of writing a count-controlled for loop. The range function creates a type of object known as an iterable. \n",
    "An iterable is an object that is similar to a list. It contains a sequence of values that can be iterated over with something like a loop. Here is an example of a for loop that uses the \n",
    "range function: <br>"
   ]
  },
  {
   "cell_type": "code",
   "execution_count": null,
   "metadata": {},
   "outputs": [
    {
     "name": "stdout",
     "output_type": "stream",
     "text": [
      "0\n",
      "1\n",
      "2\n",
      "3\n",
      "4\n"
     ]
    }
   ],
   "source": [
    "for num in range(5): #the range function will generate an iterable sequence of integers in the range of 0 up to (but not including) 5.\n",
    " print(num)"
   ]
  },
  {
   "cell_type": "code",
   "execution_count": null,
   "metadata": {},
   "outputs": [
    {
     "name": "stdout",
     "output_type": "stream",
     "text": [
      "Hello World\n",
      "Hello World\n",
      "Hello World\n",
      "Hello World\n",
      "Hello World\n"
     ]
    }
   ],
   "source": [
    "#print Hello World 5 times\n",
    "\n",
    "for x in range(5):\n",
    "    print(\"Hello World\")"
   ]
  },
  {
   "cell_type": "markdown",
   "metadata": {},
   "source": [
    "If you pass two arguments to the range function, the first argument is used as the starting value of the sequence, and the second argument is used as the ending limit."
   ]
  },
  {
   "cell_type": "code",
   "execution_count": null,
   "metadata": {},
   "outputs": [
    {
     "name": "stdout",
     "output_type": "stream",
     "text": [
      "1\n",
      "2\n",
      "3\n",
      "4\n"
     ]
    }
   ],
   "source": [
    "for num in range(1, 5):\n",
    " print(num)"
   ]
  },
  {
   "cell_type": "markdown",
   "metadata": {},
   "source": [
    "By default, the range function produces a sequence of numbers that increase by 1 for each successive number in the list. If you pass a third argument to the range function, that argument is used as step value. Instead of increasing by 1, each successive number in the sequence will increase by the step value."
   ]
  },
  {
   "cell_type": "code",
   "execution_count": null,
   "metadata": {},
   "outputs": [
    {
     "name": "stdout",
     "output_type": "stream",
     "text": [
      "1\n",
      "3\n",
      "5\n",
      "7\n",
      "9\n"
     ]
    }
   ],
   "source": [
    "for num in range(1, 10, 2): #first argument is the starting value, second argument is the ending limit, the third argument is the step value\n",
    " print(num)"
   ]
  },
  {
   "cell_type": "code",
   "execution_count": null,
   "metadata": {},
   "outputs": [
    {
     "name": "stdout",
     "output_type": "stream",
     "text": [
      "1 \t 1\n",
      "2 \t 4\n",
      "3 \t 9\n",
      "4 \t 16\n",
      "5 \t 25\n",
      "6 \t 36\n",
      "7 \t 49\n",
      "8 \t 64\n",
      "9 \t 81\n",
      "10 \t 100\n"
     ]
    }
   ],
   "source": [
    "#using the target variable inside the loop\n",
    "#Problem: square the numbers from 1 to 10\n",
    "\n",
    "for i in range(1,11): #this will take numbers from 1 to 10\n",
    "    square = i ** 2\n",
    "    print(i,\"\\t\",square)"
   ]
  },
  {
   "cell_type": "code",
   "execution_count": null,
   "metadata": {},
   "outputs": [
    {
     "name": "stdout",
     "output_type": "stream",
     "text": [
      "1 \t 1\n",
      "2 \t 4\n",
      "3 \t 9\n",
      "4 \t 16\n",
      "5 \t 25\n"
     ]
    }
   ],
   "source": [
    "#letting the user control the loop iterations\n",
    "\n",
    "end = int(input('Square numbers until? '))\n",
    "\n",
    "for i in range(1,end + 1): #this will take numbers from 1 to 10\n",
    "    square = i ** 2\n",
    "    print(i,\"\\t\",square)"
   ]
  },
  {
   "cell_type": "code",
   "execution_count": null,
   "metadata": {},
   "outputs": [
    {
     "name": "stdout",
     "output_type": "stream",
     "text": [
      "10 9 8 7 6 5 4 3 2 1 "
     ]
    }
   ],
   "source": [
    "#printing numbers in reverse using for loop and range\n",
    "\n",
    "for i in range(10, 0, -1):\n",
    "    print(i,end=\" \")"
   ]
  },
  {
   "cell_type": "code",
   "execution_count": null,
   "metadata": {},
   "outputs": [
    {
     "name": "stdout",
     "output_type": "stream",
     "text": [
      "Enter 5 numbers. This program will calculate their sum\n",
      "The total is 20\n"
     ]
    }
   ],
   "source": [
    "#calculating the running total using for loop\n",
    "#ask the user to input numbers and calculate the sum of all inputs\n",
    "\n",
    "MAX = 5 #max number\n",
    "\n",
    "total = 0\n",
    "\n",
    "print(f\"Enter {MAX} numbers. This program will calculate their sum\")\n",
    "\n",
    "for counter in range(MAX):\n",
    "    number = int(input(\"Enter a number: \"))\n",
    "    total = total + number\n",
    "\n",
    "#display total\n",
    "print(\"The total is\", total)\n"
   ]
  },
  {
   "cell_type": "code",
   "execution_count": null,
   "metadata": {},
   "outputs": [
    {
     "name": "stdout",
     "output_type": "stream",
     "text": [
      "Enter 5 numbers. This program will calculate their sum\n",
      "The total is 15\n"
     ]
    }
   ],
   "source": [
    "#using augmeted assignment operator\n",
    "\n",
    "#calculating the running total using for loop\n",
    "#ask the user to input numbers and calculate the sum of all inputs\n",
    "\n",
    "MAX = 5 #max number\n",
    "\n",
    "total = 0\n",
    "\n",
    "print(f\"Enter {MAX} numbers. This program will calculate their sum\")\n",
    "\n",
    "for counter in range(MAX):\n",
    "    number = int(input(\"Enter a number: \"))\n",
    "    #total = total + number #this line is the same as the next line\n",
    "    total += number #this line uses the augemented assigment operator\n",
    "\n",
    "#display total\n",
    "print(\"The total is\", total)\n"
   ]
  },
  {
   "cell_type": "markdown",
   "metadata": {},
   "source": [
    "Augmented assignment operators <br>\n",
    "\n",
    "<code> Operator &nbsp;&nbsp;&nbsp; Example Usage &nbsp;&nbsp;&nbsp; Equivalent to </code> <br>\n",
    "<code> += &nbsp;&nbsp;&nbsp;&nbsp;&nbsp;&nbsp;&nbsp;&nbsp;&nbsp;&nbsp; x += 5 &nbsp;&nbsp;&nbsp;&nbsp;&nbsp;&nbsp;&nbsp;&nbsp;&nbsp;&nbsp;&nbsp; x = x + 5</code> <br>\n",
    "<code> -= &nbsp;&nbsp;&nbsp;&nbsp;&nbsp;&nbsp;&nbsp;&nbsp;&nbsp;&nbsp; x -= 5 &nbsp;&nbsp;&nbsp;&nbsp;&nbsp;&nbsp;&nbsp;&nbsp;&nbsp;&nbsp;&nbsp; x = x - 5</code> <br>\n",
    "<code> `*=` &nbsp;&nbsp;&nbsp;&nbsp;&nbsp;&nbsp;&nbsp;&nbsp;&nbsp;&nbsp; x `*`= 5 &nbsp;&nbsp;&nbsp;&nbsp;&nbsp;&nbsp;&nbsp;&nbsp;&nbsp;&nbsp;&nbsp; x = x * 5</code> <br>\n",
    "<code> /= &nbsp;&nbsp;&nbsp;&nbsp;&nbsp;&nbsp;&nbsp;&nbsp;&nbsp;&nbsp; x /= 5 &nbsp;&nbsp;&nbsp;&nbsp;&nbsp;&nbsp;&nbsp;&nbsp;&nbsp;&nbsp;&nbsp; x = x / 5</code> <br>\n",
    "<code> %= &nbsp;&nbsp;&nbsp;&nbsp;&nbsp;&nbsp;&nbsp;&nbsp;&nbsp;&nbsp; x %= 5 &nbsp;&nbsp;&nbsp;&nbsp;&nbsp;&nbsp;&nbsp;&nbsp;&nbsp;&nbsp;&nbsp; x = x % 5</code> <br>"
   ]
  }
 ],
 "metadata": {
  "kernelspec": {
   "display_name": "Python 3",
   "language": "python",
   "name": "python3"
  },
  "language_info": {
   "codemirror_mode": {
    "name": "ipython",
    "version": 3
   },
   "file_extension": ".py",
   "mimetype": "text/x-python",
   "name": "python",
   "nbconvert_exporter": "python",
   "pygments_lexer": "ipython3",
   "version": "3.11.4"
  }
 },
 "nbformat": 4,
 "nbformat_minor": 2
}
