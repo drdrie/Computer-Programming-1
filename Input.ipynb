{
 "cells": [
  {
   "attachments": {},
   "cell_type": "markdown",
   "metadata": {},
   "source": [
    "Programs commonly need to read input from the user. To read the input from the keyboard, we use input function. The input function reads a piece data that has been entered at the keyboard and returns that piece of data as a string back to the program. The input function is normally used in an assignment statement:\n",
    "\n",
    "variable = input(prompt)"
   ]
  },
  {
   "cell_type": "code",
   "execution_count": 1,
   "metadata": {},
   "outputs": [
    {
     "name": "stdout",
     "output_type": "stream",
     "text": [
      "<class 'str'>\n"
     ]
    }
   ],
   "source": [
    "age = input(\"Enter your age: \") #When the user inputs the value, the value is read as string and is assigned to age variable\n",
    "print(age)\n",
    "print(type(age)) "
   ]
  },
  {
   "cell_type": "code",
   "execution_count": null,
   "metadata": {},
   "outputs": [],
   "source": [
    "#you can also have multiple inputs\n",
    "firstName = input(\"Input your first name: \")\n",
    "lastName = input(\"Input your last name\")\n",
    "print(\"Hello\",firstName,lastName)"
   ]
  },
  {
   "attachments": {},
   "cell_type": "markdown",
   "metadata": {},
   "source": [
    "The input function always returns the user's input as a string, even if the user enters a numeric data. "
   ]
  },
  {
   "cell_type": "code",
   "execution_count": null,
   "metadata": {},
   "outputs": [],
   "source": [
    "#example is when you ask the user to enter an age\n",
    "age = input(\"Enter your age: \") \n",
    "print(age)\n",
    "print(type(age)) "
   ]
  },
  {
   "attachments": {},
   "cell_type": "markdown",
   "metadata": {},
   "source": [
    "This can be a problem if you want to use the value for math operations. Math operations can be performed only on numeric values, not strings. You can convert a value from string to numeric using int() and float() functions."
   ]
  },
  {
   "cell_type": "code",
   "execution_count": 1,
   "metadata": {},
   "outputs": [
    {
     "name": "stdout",
     "output_type": "stream",
     "text": [
      "<class 'str'>\n",
      "<class 'int'>\n"
     ]
    }
   ],
   "source": [
    "#convert string value to integer\n",
    "age = input(\"Enter your age: \")\n",
    "print(type(age))\n",
    "age = int(age)\n",
    "print(type(age))"
   ]
  },
  {
   "cell_type": "code",
   "execution_count": 2,
   "metadata": {},
   "outputs": [
    {
     "name": "stdout",
     "output_type": "stream",
     "text": [
      "<class 'str'>\n",
      "<class 'float'>\n"
     ]
    }
   ],
   "source": [
    "#convert string value to float\n",
    "balance = input(\"Enter your account balance: \")\n",
    "print(type(balance))\n",
    "balance = float(balance)\n",
    "print(type(balance))"
   ]
  },
  {
   "cell_type": "code",
   "execution_count": 4,
   "metadata": {},
   "outputs": [
    {
     "name": "stdout",
     "output_type": "stream",
     "text": [
      "<class 'int'>\n"
     ]
    }
   ],
   "source": [
    "#you can also do it this way, using nested function calls\n",
    "age = int(input(\"Enter your age: \")) #this calls input function first then converts the input to int. then stores the value to age variable\n",
    "print(type(age))"
   ]
  },
  {
   "cell_type": "code",
   "execution_count": 5,
   "metadata": {},
   "outputs": [
    {
     "name": "stdout",
     "output_type": "stream",
     "text": [
      "<class 'float'>\n"
     ]
    }
   ],
   "source": [
    "#similarly you can do it with float\n",
    "salary = float(input(\"Enter your salary: \"))\n",
    "print(type(salary))"
   ]
  },
  {
   "attachments": {},
   "cell_type": "markdown",
   "metadata": {},
   "source": [
    "Python has numerous operators that can be used to perform mathematical calculations. "
   ]
  }
 ],
 "metadata": {
  "kernelspec": {
   "display_name": "Python 3",
   "language": "python",
   "name": "python3"
  },
  "language_info": {
   "codemirror_mode": {
    "name": "ipython",
    "version": 3
   },
   "file_extension": ".py",
   "mimetype": "text/x-python",
   "name": "python",
   "nbconvert_exporter": "python",
   "pygments_lexer": "ipython3",
   "version": "3.11.4"
  },
  "orig_nbformat": 4
 },
 "nbformat": 4,
 "nbformat_minor": 2
}
