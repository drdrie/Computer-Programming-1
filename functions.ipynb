{
 "cells": [
  {
   "cell_type": "markdown",
   "metadata": {},
   "source": [
    "A function is a group of statements that exist within a program for the purpose of performing a specific task."
   ]
  },
  {
   "cell_type": "markdown",
   "metadata": {},
   "source": [
    "Benefits of Modularzing a Program with functions: <br>\n",
    "\n",
    "<code>Simpler Code:</code> breaking down your codes into functions can be simpler and easier to understand. <br>\n",
    "<code>Code Reuse:</code> reduces code duplication in the program <br>\n",
    "<code>Better Testing:</code> programs can be tested individually to determine errors (logical or syntax) <br>\n",
    "<code>Easier Facilitation of Teamwork:</code> different programmers can be assigned the job of writing different functions<br>"
   ]
  },
  {
   "cell_type": "markdown",
   "metadata": {},
   "source": [
    "<code>Void Functions and Value-Returning Functions</code> <br>\n",
    "When you call a void function, it simply executes the statements it contains and then terminates. When you call a value-returning function, it executes the statements that it contains, then returns a value back to the statement that called it."
   ]
  },
  {
   "cell_type": "code",
   "execution_count": 1,
   "metadata": {},
   "outputs": [
    {
     "name": "stdout",
     "output_type": "stream",
     "text": [
      "Hello World\n"
     ]
    }
   ],
   "source": [
    "#void Function\n",
    "#The code for a function is known as a function definition. To execute the function, you write a statement that calls it\n",
    "\n",
    "#Python requires that you follow the same rules as a function name\n",
    "\n",
    "\n",
    "#To create a function, you write its definition.\n",
    "#define a function before calling it\n",
    "def message():\n",
    "    print(\"Hello World\")\n",
    "    #indentation in a function is IMPORTANT\n",
    "    #the last indented line after a function header is the last line in the function’s block\n",
    "\n",
    "#function call\n",
    "message()"
   ]
  },
  {
   "cell_type": "code",
   "execution_count": 3,
   "metadata": {},
   "outputs": [
    {
     "name": "stdout",
     "output_type": "stream",
     "text": [
      "I have a message for you.\n",
      "Hello World\n"
     ]
    }
   ],
   "source": [
    "#two functions example\n",
    "#calling a function inside a function\n",
    "\n",
    "def main():\n",
    "    print(\"I have a message for you.\")\n",
    "    message() #message was defined earlier\n",
    "\n",
    "main()"
   ]
  },
  {
   "cell_type": "markdown",
   "metadata": {},
   "source": [
    "<code>Local Variables</code> <br>\n",
    "\n",
    "A local variable is created inside a function and cannot be accessed by statements that are outside the function. Different functions can have \n",
    "local variables with the same names because the functions cannot see each other's local variables.\n",
    "\n",
    "Anytime you assign a value to a variable inside a function, you create a local variable. A local variable belongs to the function in which it is created, and only statements inside that function can access the variable. The term local is meant to indicate that the variable can be used only locally, within the function in which it is created."
   ]
  },
  {
   "cell_type": "code",
   "execution_count": 1,
   "metadata": {},
   "outputs": [
    {
     "ename": "NameError",
     "evalue": "name 'name' is not defined",
     "output_type": "error",
     "traceback": [
      "\u001b[1;31m---------------------------------------------------------------------------\u001b[0m",
      "\u001b[1;31mNameError\u001b[0m                                 Traceback (most recent call last)",
      "\u001b[1;32mc:\\Users\\loves\\OneDrive\\Desktop\\Programming 1 Notebooks\\functions.ipynb Cell 7\u001b[0m line \u001b[0;36m8\n\u001b[0;32m      <a href='vscode-notebook-cell:/c%3A/Users/loves/OneDrive/Desktop/Programming%201%20Notebooks/functions.ipynb#X11sZmlsZQ%3D%3D?line=4'>5</a>\u001b[0m \u001b[39mdef\u001b[39;00m \u001b[39mget_name\u001b[39m():\n\u001b[0;32m      <a href='vscode-notebook-cell:/c%3A/Users/loves/OneDrive/Desktop/Programming%201%20Notebooks/functions.ipynb#X11sZmlsZQ%3D%3D?line=5'>6</a>\u001b[0m     name \u001b[39m=\u001b[39m \u001b[39minput\u001b[39m(\u001b[39m'\u001b[39m\u001b[39mEnter your name: \u001b[39m\u001b[39m'\u001b[39m)\n\u001b[1;32m----> <a href='vscode-notebook-cell:/c%3A/Users/loves/OneDrive/Desktop/Programming%201%20Notebooks/functions.ipynb#X11sZmlsZQ%3D%3D?line=7'>8</a>\u001b[0m show_message()\n",
      "\u001b[1;32mc:\\Users\\loves\\OneDrive\\Desktop\\Programming 1 Notebooks\\functions.ipynb Cell 7\u001b[0m line \u001b[0;36m3\n\u001b[0;32m      <a href='vscode-notebook-cell:/c%3A/Users/loves/OneDrive/Desktop/Programming%201%20Notebooks/functions.ipynb#X11sZmlsZQ%3D%3D?line=0'>1</a>\u001b[0m \u001b[39mdef\u001b[39;00m \u001b[39mshow_message\u001b[39m():\n\u001b[0;32m      <a href='vscode-notebook-cell:/c%3A/Users/loves/OneDrive/Desktop/Programming%201%20Notebooks/functions.ipynb#X11sZmlsZQ%3D%3D?line=1'>2</a>\u001b[0m     get_name()\n\u001b[1;32m----> <a href='vscode-notebook-cell:/c%3A/Users/loves/OneDrive/Desktop/Programming%201%20Notebooks/functions.ipynb#X11sZmlsZQ%3D%3D?line=2'>3</a>\u001b[0m     \u001b[39mprint\u001b[39m(\u001b[39m\"\u001b[39m\u001b[39mHello\u001b[39m\u001b[39m\"\u001b[39m, name)\n",
      "\u001b[1;31mNameError\u001b[0m: name 'name' is not defined"
     ]
    }
   ],
   "source": [
    "def show_message():\n",
    "    get_name()\n",
    "    print(\"Hello\", name) #this causes an error!\n",
    "\n",
    "def get_name():\n",
    "    name = input('Enter your name: ')\n",
    "\n",
    "show_message()\n"
   ]
  },
  {
   "cell_type": "markdown",
   "metadata": {},
   "source": [
    "Scope and Local Variables\n",
    "A variable’s scope is the part of a program in which the variable may be accessed. A variable is visible only to statements in the variable’s scope. A local variable’s scope is the function in which the variable is created."
   ]
  },
  {
   "cell_type": "markdown",
   "metadata": {},
   "source": [
    "<code>Passing Arguments to Functions</code>\n",
    "An argument is any piece of data that is passed into a function when the function is called. A parameter is a variable that receives an argument that is passed into a function.\n",
    "\n",
    "If you want a function to receive arguments when it is called, you must equip the function with one or more parameter variables. A parameter variable, often simply called a parameter, is a special variable that is assigned the value of an argument when a function is called."
   ]
  },
  {
   "cell_type": "code",
   "execution_count": 2,
   "metadata": {},
   "outputs": [
    {
     "name": "stdout",
     "output_type": "stream",
     "text": [
      "10\n"
     ]
    }
   ],
   "source": [
    "def show_double(number): \n",
    " result = number * 2\n",
    " print(result)\n",
    "\n",
    "def main():\n",
    " value = 5\n",
    " show_double(value) #value is being passed as an argument to the show_double function\n",
    "\n",
    "# The show_double function accepts an argument\n",
    "# and displays double its value.\n",
    "def show_double(number): #number is the parameter variable #when you call the show_double function it expects an argument number\n",
    " result = number * 2\n",
    " print(result)\n",
    "\n",
    "# Call the main function.\n",
    "main()\n"
   ]
  },
  {
   "cell_type": "markdown",
   "metadata": {},
   "source": [
    "<code>Parameter Variable Scope</code> \n",
    "A variable is visible only to statements inside the variable’s scope. A parameter variable’s scope is the function in which the parameter is used. All of the statements inside the function can access the parameter variable, but no statement outside the function can access it.\n"
   ]
  },
  {
   "cell_type": "code",
   "execution_count": 3,
   "metadata": {},
   "outputs": [
    {
     "name": "stdout",
     "output_type": "stream",
     "text": [
      "The sum of 12 and 45 is\n",
      "57\n"
     ]
    }
   ],
   "source": [
    "#passing multiple arguments\n",
    "# This program demonstrates a function that accepts\n",
    "# two arguments.\n",
    "\n",
    "def main():\n",
    " print('The sum of 12 and 45 is')\n",
    " show_sum(12, 45)\n",
    "\n",
    "def show_sum(num1, num2):\n",
    " result = num1 + num2\n",
    " print(result)\n",
    "\n",
    "main()"
   ]
  },
  {
   "cell_type": "code",
   "execution_count": 4,
   "metadata": {},
   "outputs": [
    {
     "name": "stdout",
     "output_type": "stream",
     "text": [
      "The value is 99\n",
      "I am changing the value.\n",
      "Now the value is 0\n",
      "Back in main the value is 99\n"
     ]
    }
   ],
   "source": [
    "#making changes to parameters\n",
    "# This program demonstrates what happens when you\n",
    "# change the value of a parameter.\n",
    "\n",
    "def main():\n",
    " value = 99\n",
    " print('The value is', value)\n",
    " change_me(value)\n",
    " print('Back in main the value is', value)\n",
    "\n",
    "def change_me(arg):\n",
    " print('I am changing the value.')\n",
    " arg = 0\n",
    " print('Now the value is', arg)\n",
    "\n",
    "# Call the main function.\n",
    "main()\n"
   ]
  },
  {
   "cell_type": "markdown",
   "metadata": {},
   "source": [
    "<code> What we use in the example above is called pass by value. </code> In a programming language that uses pass by value, when you pass a parameter to a function, a copy of the actual value of the parameter is passed to the function. The function works with this copy, and any modifications made to the parameter within the function do not affect the original value outside the function."
   ]
  },
  {
   "cell_type": "markdown",
   "metadata": {},
   "source": [
    "<code>Keyword Arguments</code>\n",
    "Python language allows you to write an argument in the following format, to specify which parameter variable the argument should be passed to:\n",
    "<code>parameter_name=value</code><br>\n",
    "An argument that is written in accordance with this syntax is known as a keyword argument."
   ]
  },
  {
   "cell_type": "code",
   "execution_count": 5,
   "metadata": {},
   "outputs": [
    {
     "name": "stdout",
     "output_type": "stream",
     "text": [
      "The simple interest will be $1,000.00\n"
     ]
    }
   ],
   "source": [
    "def main():\n",
    "    show_interest(rate=0.01, periods=10, principal=10000.0)\n",
    "    #you can mix the keyword arguments with positional arguments , but the positional arguments must appear first, followed by the keyword arguments\n",
    "    #show_interest(10000.0, rate=0.01, periods=10)\n",
    "    # This will cause an ERROR!\n",
    "    #show_interest(1000.0, rate=0.01, 10)\n",
    "\n",
    "def show_interest(principal, rate, periods):\n",
    "    interest = principal * rate * periods\n",
    "    print('The simple interest will be $', \n",
    "    format(interest, ',.2f'),  sep='')\n",
    "\n",
    "main()"
   ]
  },
  {
   "cell_type": "markdown",
   "metadata": {},
   "source": [
    "<code>Global Variables</code> A global variable is accessible to all the functions in a program file.\n",
    "When a variable is created by an assignment statement that is written outside all the functions in a program file, the variable is global. A global variable can be accessed by any statement in the program file, including the statements in any function. "
   ]
  },
  {
   "cell_type": "code",
   "execution_count": 1,
   "metadata": {},
   "outputs": [
    {
     "name": "stdout",
     "output_type": "stream",
     "text": [
      "10\n"
     ]
    }
   ],
   "source": [
    "# Create a global variable.\n",
    "my_value = 10\n",
    "\n",
    "# The show_value function prints\n",
    "# the value of the global variable.\n",
    "def show_value():\n",
    " print(my_value)\n",
    "\n",
    "# Call the show_value function.\n",
    "show_value()\n"
   ]
  },
  {
   "cell_type": "markdown",
   "metadata": {},
   "source": [
    "An additional step is required if you want a statement in a function to assign a value to a global variable. In the function, you must declare the global variable."
   ]
  },
  {
   "cell_type": "code",
   "execution_count": 3,
   "metadata": {},
   "outputs": [
    {
     "name": "stdout",
     "output_type": "stream",
     "text": [
      "The number you entered is 10\n"
     ]
    }
   ],
   "source": [
    " # Create a global variable.\n",
    "number = 0\n",
    "\n",
    "def main():\n",
    "    global number\n",
    "    number = int(input('Enter a number: '))\n",
    "    show_number()\n",
    "\n",
    "def show_number():\n",
    "    print('The number you entered is', number)\n",
    "\n",
    "# Call the main function.\n",
    "main()"
   ]
  },
  {
   "cell_type": "markdown",
   "metadata": {},
   "source": [
    "<code>Global Constants</code> A global constant is a global name that references a value that cannot be changed."
   ]
  },
  {
   "cell_type": "code",
   "execution_count": 4,
   "metadata": {},
   "outputs": [
    {
     "name": "stdout",
     "output_type": "stream",
     "text": [
      "Contribution for gross pay: $25.00\n",
      "Contribution for bonuses: $7.50\n"
     ]
    }
   ],
   "source": [
    "# The following is used as a global constant\n",
    "# the contribution rate.\n",
    "CONTRIBUTION_RATE = 0.05\n",
    "\n",
    "def main():\n",
    " gross_pay = float(input('Enter the gross pay: '))\n",
    " bonus = float(input('Enter the amount of bonuses: '))\n",
    " show_pay_contrib(gross_pay)\n",
    " show_bonus_contrib(bonus)\n",
    "\n",
    "# The show_pay_contrib function accepts the gross\n",
    "# pay as an argument and displays the retirement\n",
    "# contribution for that amount of pay.\n",
    "def show_pay_contrib(gross):\n",
    " contrib = gross * CONTRIBUTION_RATE\n",
    " print('Contribution for gross pay: $', \n",
    " format(contrib, ',.2f'), sep='')\n",
    "\n",
    "# The show_bonus_contrib function accepts the\n",
    "# bonus amount as an argument and displays the\n",
    "# retirement contribution for that amount of pay.\n",
    "def show_bonus_contrib(bonus):\n",
    " contrib = bonus * CONTRIBUTION_RATE\n",
    " print('Contribution for bonuses: $', \n",
    " format(contrib, ',.2f'), sep='')\n",
    "\n",
    "# Call the main function.\n",
    "main()"
   ]
  },
  {
   "cell_type": "markdown",
   "metadata": {},
   "source": [
    "CONTRIBUTION_RATE will be used as a global constant to represent the percentage of an employee’s pay that the company will contribute to a retirement account. It is a common \n",
    "practice to write a constant’s name in all uppercase letters. This serves as a reminder that the value referenced by the name is not to be changed in the program."
   ]
  },
  {
   "cell_type": "markdown",
   "metadata": {},
   "source": [
    "A <code>void function</code> is a group of statements that exist within a program for the purpose of performing a specific task. Just like the examples above. When you need the function to perform its task, you call the function. This causes the statements inside the function to execute. When the function is finished, control of the program returns to the statement appearing immediately after the function call."
   ]
  },
  {
   "cell_type": "markdown",
   "metadata": {},
   "source": [
    "A <code>value-returning function</code> is a special type of function. It is like a void function in the following ways:\n",
    "- It is a group of statements that perform a specific task.\n",
    "- When you want to execute the function, you call it.\n",
    "\n",
    "When a value-returning function finishes, however, it returns a value back to the part of the program that called it. The value that is returned from a function can be used like any other value: it can be assigned to a variable, displayed on the screen, used in a mathematical expression (if it is a number), and so on."
   ]
  },
  {
   "cell_type": "markdown",
   "metadata": {},
   "source": [
    "<code>Standard Library Functions and the import Statement</code> Python comes with a standard library of functions that have already been written (built-in functions). Many of the functions in the standard library, however, are stored in files that are known as <code>modules</code>. For example, functions for performing math operations are stored together in a module, functions for working with files are stored together in another module, and so on. If you want to use any of the random module’s functions in a program, you should write the following <code>import</code> statement at the top of the program: <br>\n",
    "\n",
    "<code>import random</code>\n"
   ]
  },
  {
   "cell_type": "code",
   "execution_count": 5,
   "metadata": {},
   "outputs": [
    {
     "name": "stdout",
     "output_type": "stream",
     "text": [
      "23\n",
      "75\n",
      "30\n",
      "64\n",
      "71\n"
     ]
    }
   ],
   "source": [
    "# This program displays five random\n",
    "# numbers in the range of 1 through 100.\n",
    "import random\n",
    "\n",
    "def main():\n",
    "    for count in range(5):\n",
    "    # Get a random number.\n",
    "        number = random.randint(1, 100)\n",
    "        # Display the number.\n",
    "        print(number)\n",
    "\n",
    "# Call the main function.\n",
    "main()"
   ]
  },
  {
   "cell_type": "markdown",
   "metadata": {},
   "source": [
    "<code>Writing user-defined value-returning functions</code> A value-returning function has a return statement that returns a value back to the part of the program that called it."
   ]
  },
  {
   "cell_type": "code",
   "execution_count": 6,
   "metadata": {},
   "outputs": [
    {
     "data": {
      "text/plain": [
       "4"
      ]
     },
     "execution_count": 6,
     "metadata": {},
     "output_type": "execute_result"
    }
   ],
   "source": [
    "def sum(num1, num2):\n",
    " result = num1 + num2\n",
    " return result\n",
    "\n",
    "sum(2,2)"
   ]
  },
  {
   "cell_type": "code",
   "execution_count": 10,
   "metadata": {},
   "outputs": [
    {
     "name": "stdout",
     "output_type": "stream",
     "text": [
      "Regular Price: $50.00\n"
     ]
    }
   ],
   "source": [
    "#Assign return value to a variable\n",
    "\n",
    "def get_regular_price():\n",
    " price = float(input(\"Enter the item's regular price: \"))\n",
    " return price\n",
    "\n",
    "def main():\n",
    " reg_price = get_regular_price()\n",
    " print('Regular Price: $', format(reg_price, ',.2f'), sep='')\n",
    "\n",
    "main()"
   ]
  },
  {
   "cell_type": "code",
   "execution_count": 11,
   "metadata": {},
   "outputs": [
    {
     "name": "stdout",
     "output_type": "stream",
     "text": [
      "15 is an odd number\n"
     ]
    }
   ],
   "source": [
    "def is_even(number):\n",
    " # Determine whether number is even. If it is,\n",
    " # set status to true. Otherwise, set status\n",
    " # to false.\n",
    " if (number % 2) == 0:\n",
    "    status = True\n",
    " else:\n",
    "    status = False\n",
    " # Return the value of the status variable.\n",
    " return status\n",
    "\n",
    "def main():\n",
    "    num = int(input(\"Enter a number: \"))\n",
    "    if(is_even(num)):\n",
    "       print(f\"{num} is an even number\")\n",
    "    else:\n",
    "       print(f\"{num} is an odd number\")\n",
    "\n",
    "main()"
   ]
  },
  {
   "cell_type": "code",
   "execution_count": 12,
   "metadata": {},
   "outputs": [
    {
     "name": "stdout",
     "output_type": "stream",
     "text": [
      "Juan Dela Cruz\n"
     ]
    }
   ],
   "source": [
    "#returning multiple values\n",
    "def get_name():\n",
    " # Get the user's first and last names.\n",
    " first = input('Enter your first name: ')\n",
    " last = input('Enter your last name: ')\n",
    " # Return both names.\n",
    " return first, last\n",
    "\n",
    "first_name, last_name = get_name()\n",
    "\n",
    "print(first_name,last_name)"
   ]
  }
 ],
 "metadata": {
  "kernelspec": {
   "display_name": "Python 3",
   "language": "python",
   "name": "python3"
  },
  "language_info": {
   "codemirror_mode": {
    "name": "ipython",
    "version": 3
   },
   "file_extension": ".py",
   "mimetype": "text/x-python",
   "name": "python",
   "nbconvert_exporter": "python",
   "pygments_lexer": "ipython3",
   "version": "3.11.4"
  }
 },
 "nbformat": 4,
 "nbformat_minor": 2
}
