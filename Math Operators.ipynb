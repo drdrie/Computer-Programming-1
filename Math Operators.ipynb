{
 "cells": [
  {
   "cell_type": "markdown",
   "metadata": {},
   "source": [
    "Python has numerous operators that can be uses to perform mathematical calculations. We use the operators to create math expressions. A math expression performs calculation and gives a value.\n",
    "\n",
    "| + | Addition | Adss two numbers <br>\n",
    "| - | Subtraction | Subtracts one number from another <br>\n",
    "| * | Multiplication | Multiplies one number by another <br>\n",
    "| / | Division | Divides one number by another and gives the result as a floating-point number <br>\n",
    "| // | Integer Division | Divides one number by another and gives the result as a whole number <br>\n",
    "| % | Remainder (Modulo) | Divides one number by another and gives the remainder <br>\n",
    "| ** | Exponent | Raises a number to a power <br>\n"
   ]
  },
  {
   "cell_type": "code",
   "execution_count": null,
   "metadata": {},
   "outputs": [
    {
     "name": "stdout",
     "output_type": "stream",
     "text": [
      "Addition: 7\n",
      "Subtraction: 3\n",
      "Multiplication: 10\n",
      "Division: 2.5\n",
      "Integer Division: 2\n",
      "Modulo: 1\n",
      "Exponent: 25\n"
     ]
    }
   ],
   "source": [
    "#math operators \n",
    "x = 5\n",
    "y = 2\n",
    "\n",
    "print(\"Addition:\", x+y)\n",
    "print(\"Subtraction:\",x-y)\n",
    "print(\"Multiplication:\",x*y)\n",
    "print(\"Division:\",x/y)\n",
    "print(\"Integer Division:\", x//y)\n",
    "print(\"Modulo:\",x%y)\n",
    "print(\"Exponent:\",x**y)"
   ]
  },
  {
   "cell_type": "code",
   "execution_count": 6,
   "metadata": {},
   "outputs": [
    {
     "name": "stdout",
     "output_type": "stream",
     "text": [
      "2.5\n",
      "2\n"
     ]
    }
   ],
   "source": [
    "#Floating-Point and Integer Division\n",
    "print(5/2) #This will give a floating-point value\n",
    "print(5//2) #This will give an integer value"
   ]
  },
  {
   "cell_type": "markdown",
   "metadata": {},
   "source": [
    "The // operator works like this:\n",
    "-When the result is positive, the fractional part is thrown away.\n",
    "-When the result is negative, it is rounded away from zero to the nearest integer."
   ]
  },
  {
   "cell_type": "code",
   "execution_count": 7,
   "metadata": {},
   "outputs": [
    {
     "name": "stdout",
     "output_type": "stream",
     "text": [
      "2\n",
      "-3\n"
     ]
    }
   ],
   "source": [
    "#Integer division with positive and negative numbers\n",
    "print(5//2)\n",
    "print(-5//2)"
   ]
  },
  {
   "cell_type": "markdown",
   "metadata": {},
   "source": [
    "Operator Precedence: When two operator share an operand, the operator with the higher precedence is applied first. The precedence of the math operators, from highest to lowest are:\n",
    "1. Exponentiation: **\n",
    "2. Multiplication, division and remainder: * / // %\n",
    "3. Addition and Subtraction: + - \n",
    "When two operators with same precedence share an operand, the operators execute from left to right."
   ]
  },
  {
   "cell_type": "code",
   "execution_count": 12,
   "metadata": {},
   "outputs": [
    {
     "name": "stdout",
     "output_type": "stream",
     "text": [
      "13\n",
      "2.0\n",
      "28\n",
      "6\n"
     ]
    }
   ],
   "source": [
    "#operator precedence\n",
    "print(5+2*4) #multiplication has a higher precedence than addition\n",
    "print(10/2-3)\n",
    "print(8+12*2-4) \n",
    "print(6-3*2+7-1) #if the operators has the same precedence, they are executed from left to right "
   ]
  },
  {
   "cell_type": "markdown",
   "metadata": {},
   "source": [
    "There is an exception to the left-to-right rule. When two ** operators share an operand, the operators excecute right-to-left."
   ]
  },
  {
   "cell_type": "code",
   "execution_count": 13,
   "metadata": {},
   "outputs": [
    {
     "name": "stdout",
     "output_type": "stream",
     "text": [
      "2417851639229258349412352\n",
      "2417851639229258349412352\n"
     ]
    }
   ],
   "source": [
    "print(2**3**4)\n",
    "#is the same as\n",
    "print(2**(3**4))"
   ]
  },
  {
   "cell_type": "markdown",
   "metadata": {},
   "source": [
    "Parts if a mathematical expression may be grouped with parentheses to force some operations to be performed before others. \n",
    "\n",
    "result = (a + b) / 2\n",
    "\n",
    "Without the parentheses, b would be divided by 2 and the result added to a."
   ]
  },
  {
   "cell_type": "code",
   "execution_count": 18,
   "metadata": {},
   "outputs": [
    {
     "name": "stdout",
     "output_type": "stream",
     "text": [
      "28\n",
      "-10.0\n",
      "36\n",
      "26\n"
     ]
    }
   ],
   "source": [
    "#operator precedence with parentheses\n",
    "print((5+2)*4) \n",
    "print(10/(2-3))\n",
    "print((8+12)*2-4) \n",
    "print((6-3)*(2+7)-1) #if the operators has the same precedence, they are executed from left to right\n"
   ]
  },
  {
   "cell_type": "markdown",
   "metadata": {},
   "source": [
    "Converting Math Formulas to Programming Statements\n",
    "\n",
    "2xy is understood to mean 2 times x times y\n",
    "\n",
    "Python, as well as other programming languages, requires an operator for any mathematical operation. \n",
    "\n",
    "Example: <br>\n",
    "Math Expression | Operation Being Performed | Programming Expression <br>\n",
    "6B |  6 times B | 6 * B        <br>\n",
    "(3)(12) | 3 times 12 | 3 * 12 <br>\n",
    "4xy | 4 times x times y | 4 * x * y  <br>          \n",
    "\n",
    "When converting some algebraic expressions to programming expressions, you may have to insert parentheses that do not appear in the algebraic expression. \n",
    "\n",
    "x=$\\frac{a+b}{c}$\n",
    "\n",
    "To convert this to a programming statement, a + b will have to be enclosed in parentheses:\n",
    "\n",
    "x = (a+b)/c\n",
    "\n",
    "Other Examples:\n",
    "\n",
    "y=${3}\\frac{x}{2}$ <br>\n",
    "\n",
    "Python Statement: y = 3 * x / 2\n",
    "\n",
    "z = 3bc + 4 <br>\n",
    "\n",
    "Python Statement: z = 3 * b * c + 4\n",
    "\n",
    "a = $\\frac{x+2}{b-1}$ <br>\n",
    "\n",
    "Python Statement: a = (x + 2) / (b -1)\n",
    "\n"
   ]
  }
 ],
 "metadata": {
  "kernelspec": {
   "display_name": "Python 3",
   "language": "python",
   "name": "python3"
  },
  "language_info": {
   "codemirror_mode": {
    "name": "ipython",
    "version": 3
   },
   "file_extension": ".py",
   "mimetype": "text/x-python",
   "name": "python",
   "nbconvert_exporter": "python",
   "pygments_lexer": "ipython3",
   "version": "3.11.4"
  },
  "orig_nbformat": 4
 },
 "nbformat": 4,
 "nbformat_minor": 2
}
