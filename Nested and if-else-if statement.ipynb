{
 "cells": [
  {
   "cell_type": "markdown",
   "metadata": {},
   "source": [
    "Nested Decision Structures and the if-elif-else Statement\n",
    "\n",
    "To test more than one condition, a decision structure can be nested inside another decision structure. In fact, this is a common requirement in programs that need to test more than one condition."
   ]
  },
  {
   "cell_type": "code",
   "execution_count": 1,
   "metadata": {},
   "outputs": [
    {
     "name": "stdout",
     "output_type": "stream",
     "text": [
      "You qualify for the loan.\n"
     ]
    }
   ],
   "source": [
    "#For example, consider a program that determines whether a bank customer qualifies for a loan\n",
    "#To qualify, two conditions must exist: (1) the customer must earn at least $30,000 per year, and (2) the customer must have been employed for at least two years.\n",
    "\n",
    "# This program determines whether a bank customer\n",
    "# qualifies for a loan.\n",
    "\n",
    "MIN_SALARY = 30000.0 # The minimum annual salary\n",
    "MIN_YEARS = 2 # The minimum years on the job\n",
    "\n",
    "# Get the customer's annual salary.\n",
    "salary = float(input('Enter your annual salary: '))\n",
    "\n",
    "# Get the number of years on the current job.\n",
    "years_on_job = int(input('Enter the number of years employed: '))\n",
    "\n",
    "# Determine whether the customer qualifies.\n",
    "if salary >= MIN_SALARY:\n",
    "    if years_on_job >= MIN_YEARS:\n",
    "        print('You qualify for the loan.')\n",
    "    else:\n",
    "        print('You must have been employed', 'for at least', MIN_YEARS, 'years to qualify.')\n",
    "else:\n",
    "    print('You must earn at least $', format(MIN_SALARY, ',.2f'),  'per year to qualify.', sep='')"
   ]
  },
  {
   "cell_type": "markdown",
   "metadata": {},
   "source": [
    "The if-elif-else Statement\n",
    "\n",
    "Python provides a special version of the decision structure known as the if-elif-else statement.\n",
    "\n",
    "Here is the general format of the if-elif-else statement: <br>\n",
    "\n",
    "if condition_1: <br>\n",
    "    <code>&nbsp;&nbsp;&nbsp;&nbsp;statement</code> <br>\n",
    "    <code>&nbsp;&nbsp;&nbsp;&nbsp;statement</code> <br>\n",
    "    <code>&nbsp;&nbsp;&nbsp;&nbsp;etc.</code> <br>\n",
    "elif condition_2: <br>\n",
    "    <code>&nbsp;&nbsp;&nbsp;&nbsp;statement</code> <br>\n",
    "    <code>&nbsp;&nbsp;&nbsp;&nbsp;statement</code> <br>\n",
    "    <code>&nbsp;&nbsp;&nbsp;&nbsp;etc.</code> <br>\n",
    "else: <br>\n",
    "    <code>&nbsp;&nbsp;&nbsp;&nbsp;statement</code> <br>\n",
    "    <code>&nbsp;&nbsp;&nbsp;&nbsp;statement</code> <br>\n",
    "    <code>&nbsp;&nbsp;&nbsp;&nbsp;etc.</code> <br>\n",
    "\n",
    "When the statement executes, condition_1 is tested. If condition_1 is true, the block of statements that immediately follow is executed, up to the elif clause. The rest of the structure is ignored. If condition_1 is false, however, the program jumps to the very next elif clause and tests condition_2. If it is true, the block of statements that immediately follow is executed, up to the next elif clause. The rest of the structure is then ignored. This process continues until a condition is found to be true, or no more elif clauses are left. If no condition is true, the block of statements following the else clause is executed."
   ]
  },
  {
   "cell_type": "code",
   "execution_count": 2,
   "metadata": {},
   "outputs": [
    {
     "name": "stdout",
     "output_type": "stream",
     "text": [
      "Your grade is A.\n"
     ]
    }
   ],
   "source": [
    "# Named constants to represent the grade thresholds\n",
    "A_SCORE = 90\n",
    "B_SCORE = 80\n",
    "C_SCORE = 70\n",
    "D_SCORE = 60\n",
    "\n",
    "# Get a test score from the user.\n",
    "score = int(input('Enter your test score: '))\n",
    "\n",
    "if score >= A_SCORE:\n",
    " print('Your grade is A.')\n",
    "elif score >= B_SCORE:\n",
    " print('Your grade is B.')\n",
    "elif score >= C_SCORE:\n",
    " print('Your grade is C.')\n",
    "elif score >= D_SCORE:\n",
    " print('Your grade is D.')\n",
    "else:\n",
    " print('Your grade is F.')\n"
   ]
  }
 ],
 "metadata": {
  "kernelspec": {
   "display_name": "Python 3",
   "language": "python",
   "name": "python3"
  },
  "language_info": {
   "codemirror_mode": {
    "name": "ipython",
    "version": 3
   },
   "file_extension": ".py",
   "mimetype": "text/x-python",
   "name": "python",
   "nbconvert_exporter": "python",
   "pygments_lexer": "ipython3",
   "version": "3.11.4"
  },
  "orig_nbformat": 4
 },
 "nbformat": 4,
 "nbformat_minor": 2
}
