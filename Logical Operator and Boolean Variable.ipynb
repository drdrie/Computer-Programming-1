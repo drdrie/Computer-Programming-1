{
 "cells": [
  {
   "cell_type": "markdown",
   "metadata": {},
   "source": [
    "Logical Operators <br>\n",
    "\n",
    "The logical and operator and the logical or operator allow you to connect multiple Boolean expressions to create a compound expression. The logical not operator reverses the truth of a Boolean expression.\n",
    "\n",
    "<code>and</code> - The and operator connects two Boolean expressions into one compound expression. Both subexpressions must be true for the compound expression to be true. <br>\n",
    "\n",
    "<code>or</code>  - The or operator connects two Boolean expressions into one compound expression. One or both subexpressions must be true for the compound expression to be true. It is only necessary for one of the subexpressions to be true, and it does not matter which. <br>\n",
    "\n",
    "<code>not</code>  - The not operator is a unary operator, meaning it works with only one operand. The operand must be a Boolean expression. The not operator reverses the truth of its operand. If it is applied to an expression that is true, the operator returns false. If it is applied to an expression that is false, the operator returns true.\n",
    "\n",
    "Example:\n",
    "\n",
    "<code>x > y and a < b</code> - Is x greater than y AND is a less than b? <br>\n",
    "<code>x == y or x == z</code> - Is x equal to y OR is x equal to z? <br>\n",
    "<code>not (x > y)</code> - Is the expression x > y NOT true? <br>\n"
   ]
  },
  {
   "cell_type": "markdown",
   "metadata": {},
   "source": [
    "The and operator | Truth Table\n",
    "\n",
    "<code>&nbsp;true and false &nbsp; | &nbsp; false</code> <br>\n",
    "<code>&nbsp;false and true &nbsp; | &nbsp; false</code> <br>\n",
    "<code>&nbsp;false and false &nbsp;| &nbsp; false</code> <br>\n",
    "<code>&nbsp;true and true &nbsp; &nbsp;| &nbsp; true</code> <br>"
   ]
  },
  {
   "cell_type": "code",
   "execution_count": 1,
   "metadata": {},
   "outputs": [
    {
     "name": "stdout",
     "output_type": "stream",
     "text": [
      "This is true\n"
     ]
    }
   ],
   "source": [
    "x = 5 \n",
    "y = 2\n",
    "\n",
    "if x < 10 and y == 2:\n",
    "    print(\"This is true\")"
   ]
  },
  {
   "cell_type": "markdown",
   "metadata": {},
   "source": [
    "The or operator | Truth Table\n",
    "\n",
    "<code>&nbsp;true or false &nbsp; | &nbsp; true</code> <br>\n",
    "<code>&nbsp;false or true &nbsp; | &nbsp; true</code> <br>\n",
    "<code>&nbsp;false or false &nbsp;| &nbsp; false</code> <br>\n",
    "<code>&nbsp;true or true &nbsp; &nbsp;| &nbsp; true</code> <br>"
   ]
  },
  {
   "cell_type": "code",
   "execution_count": 2,
   "metadata": {},
   "outputs": [
    {
     "name": "stdout",
     "output_type": "stream",
     "text": [
      "This is true\n"
     ]
    }
   ],
   "source": [
    "x = 5 \n",
    "y = 2\n",
    "\n",
    "if x < 10 or y != 2:\n",
    "    print(\"This is true\")"
   ]
  },
  {
   "cell_type": "markdown",
   "metadata": {},
   "source": [
    "Both the and and or operators perform short-circuit evaluation. : If the expression on the left side of the and operator is false, the expression on the right side will not be checked. Because the compound expression will be false if only one of the subexpressions is false, it would waste CPU time to check the remaining expression. So, when the and operator finds that the expression on its left is false, it short circuits and does not evaluate the expression on its right.\n",
    "\n",
    "Here’s how short-circuit evaluation works with the or operator: If the expression on the left side of the or operator is true, the expression on the right side will not be checked. Because it is only necessary for one of the expressions to be true, it would waste CPU time to check the remaining expression."
   ]
  },
  {
   "cell_type": "markdown",
   "metadata": {},
   "source": [
    "The not operator | Truth Table\n",
    "\n",
    "<code>&nbsp;not true &nbsp; | &nbsp; false</code> <br>\n",
    "<code>&nbsp;not false &nbsp;| &nbsp; true</code> <br>"
   ]
  },
  {
   "cell_type": "code",
   "execution_count": 3,
   "metadata": {},
   "outputs": [],
   "source": [
    "x = 5 \n",
    "y = 2\n",
    "\n",
    "if not(x>y):\n",
    "    print(\"This is true\")"
   ]
  },
  {
   "cell_type": "code",
   "execution_count": 5,
   "metadata": {},
   "outputs": [
    {
     "name": "stdout",
     "output_type": "stream",
     "text": [
      "You qualify for the loan.\n"
     ]
    }
   ],
   "source": [
    "#The Loan Qualifier Program Revisited with and Operator\n",
    "\n",
    "MIN_SALARY = 30000.0 # The minimum annual salary\n",
    "MIN_YEARS = 2 # The minimum years on the job\n",
    "\n",
    "# Get the customer's annual salary.\n",
    "salary = float(input('Enter your annual salary: '))\n",
    "\n",
    "# Get the number of years on the current job.\n",
    "years_on_job = int(input('Enter the number of years employed: '))\n",
    "\n",
    "# Determine whether the customer qualifies.\n",
    "if salary >= MIN_SALARY and years_on_job >= MIN_YEARS:\n",
    "    print('You qualify for the loan.')\n",
    "else:\n",
    "    print('You do not qualify for this loan.')\n"
   ]
  },
  {
   "cell_type": "markdown",
   "metadata": {},
   "source": [
    "Boolean Variables <br>\n",
    "\n",
    "A Boolean variable can reference one of two values: True or False. Boolean variables are commonly used as flags, which indicate whether specific conditions exist. <br>\n",
    "\n",
    "happy = True <br>\n",
    "sad = False\n"
   ]
  },
  {
   "cell_type": "code",
   "execution_count": null,
   "metadata": {},
   "outputs": [],
   "source": [
    "happy = True\n",
    "\n",
    "if happy:\n",
    "    print(\"Clap Clap!\")"
   ]
  }
 ],
 "metadata": {
  "kernelspec": {
   "display_name": "Python 3",
   "language": "python",
   "name": "python3"
  },
  "language_info": {
   "codemirror_mode": {
    "name": "ipython",
    "version": 3
   },
   "file_extension": ".py",
   "mimetype": "text/x-python",
   "name": "python",
   "nbconvert_exporter": "python",
   "pygments_lexer": "ipython3",
   "version": "3.11.4"
  },
  "orig_nbformat": 4
 },
 "nbformat": 4,
 "nbformat_minor": 2
}
