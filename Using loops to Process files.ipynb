{
 "cells": [
  {
   "cell_type": "markdown",
   "metadata": {},
   "source": [
    "Using loops to Process Files <br>\n",
    "CONCEPT: Files usually hold large amounts of data, and programs typically use a loop to process the data in a file."
   ]
  },
  {
   "cell_type": "code",
   "execution_count": 1,
   "metadata": {},
   "outputs": [
    {
     "name": "stdout",
     "output_type": "stream",
     "text": [
      "Data written to sales.txt.\n"
     ]
    }
   ],
   "source": [
    "# This program prompts the user for sales amounts\n",
    "# and writes those amounts to the sales.txt file.\n",
    "\n",
    "def main():\n",
    "    # Get the number of days.\n",
    "    num_days = int(input('For how many days do ' +   'you have sales? '))\n",
    "    # Open a new file named sales.txt.\n",
    "    sales_file = open('sales.txt', 'w')\n",
    "\n",
    "    # Get the amount of sales for each day and write it to the file.\n",
    "    for count in range(1, num_days + 1):\n",
    "    # Get the sales for a day.\n",
    "        sales = float(input('Enter the sales for day #' +  str(count) + ': '))\n",
    "\n",
    "        # Write the sales amount to the file.\n",
    "        sales_file.write(str(sales) + '\\n')\n",
    "\n",
    "    # Close the file.\n",
    "    sales_file.close()\n",
    "    print('Data written to sales.txt.')\n",
    "\n",
    "# Call the main function.\n",
    "main()\n"
   ]
  }
 ],
 "metadata": {
  "kernelspec": {
   "display_name": "Python 3",
   "language": "python",
   "name": "python3"
  },
  "language_info": {
   "codemirror_mode": {
    "name": "ipython",
    "version": 3
   },
   "file_extension": ".py",
   "mimetype": "text/x-python",
   "name": "python",
   "nbconvert_exporter": "python",
   "pygments_lexer": "ipython3",
   "version": "3.11.4"
  }
 },
 "nbformat": 4,
 "nbformat_minor": 2
}
